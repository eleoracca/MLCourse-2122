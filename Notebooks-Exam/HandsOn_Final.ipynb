{
 "cells": [
  {
   "cell_type": "markdown",
   "metadata": {},
   "source": [
    "# Hands on session: Analysis of Higgs data"
   ]
  },
  {
   "cell_type": "code",
   "execution_count": 1,
   "metadata": {
    "execution": {
     "iopub.execute_input": "2022-05-19T18:11:52.040620Z",
     "iopub.status.busy": "2022-05-19T18:11:52.039944Z",
     "iopub.status.idle": "2022-05-19T18:11:52.269348Z",
     "shell.execute_reply": "2022-05-19T18:11:52.268240Z",
     "shell.execute_reply.started": "2022-05-19T18:11:52.040447Z"
    },
    "tags": []
   },
   "outputs": [],
   "source": [
    "%reload_ext custom_magics"
   ]
  },
  {
   "cell_type": "code",
   "execution_count": 2,
   "metadata": {
    "execution": {
     "iopub.execute_input": "2022-05-19T18:11:52.271291Z",
     "iopub.status.busy": "2022-05-19T18:11:52.271099Z",
     "iopub.status.idle": "2022-05-19T18:11:53.326605Z",
     "shell.execute_reply": "2022-05-19T18:11:53.325016Z",
     "shell.execute_reply.started": "2022-05-19T18:11:52.271270Z"
    },
    "tags": []
   },
   "outputs": [],
   "source": [
    "import pandas as pd\n",
    "import numpy as np\n",
    "import matplotlib.pyplot as plt\n",
    "%matplotlib inline\n",
    "\n",
    "from custom_functions import *"
   ]
  },
  {
   "cell_type": "code",
   "execution_count": 3,
   "metadata": {
    "execution": {
     "iopub.execute_input": "2022-05-19T18:11:53.329596Z",
     "iopub.status.busy": "2022-05-19T18:11:53.329100Z",
     "iopub.status.idle": "2022-05-19T18:12:02.519427Z",
     "shell.execute_reply": "2022-05-19T18:12:02.517759Z",
     "shell.execute_reply.started": "2022-05-19T18:11:53.329535Z"
    },
    "scrolled": true,
    "tags": []
   },
   "outputs": [
    {
     "data": {
      "text/html": [
       "\n",
       "        <div>\n",
       "            <p><b>SparkContext</b></p>\n",
       "\n",
       "            <p><a href=\"http://jupyter-eleoracca.jhub.svc.cluster.local:4040\">Spark UI</a></p>\n",
       "\n",
       "            <dl>\n",
       "              <dt>Version</dt>\n",
       "                <dd><code>v3.2.1</code></dd>\n",
       "              <dt>Master</dt>\n",
       "                <dd><code>k8s://https://192.168.2.39:6443</code></dd>\n",
       "              <dt>AppName</dt>\n",
       "                <dd><code>jupyter-eleoracca</code></dd>\n",
       "            </dl>\n",
       "        </div>\n",
       "        "
      ],
      "text/plain": [
       "<SparkContext master=k8s://https://192.168.2.39:6443 appName=jupyter-eleoracca>"
      ]
     },
     "execution_count": 3,
     "metadata": {},
     "output_type": "execute_result"
    }
   ],
   "source": [
    "num_workers=5\n",
    "spark=%sc $num_workers\n",
    "\n",
    "from pyspark.sql import SparkSession\n",
    "spark_session = SparkSession(spark)\n",
    "\n",
    "#check if spark is there\n",
    "spark"
   ]
  },
  {
   "cell_type": "markdown",
   "metadata": {},
   "source": [
    "## Prepare the input data"
   ]
  },
  {
   "cell_type": "code",
   "execution_count": 4,
   "metadata": {
    "execution": {
     "iopub.execute_input": "2022-05-19T18:12:02.522847Z",
     "iopub.status.busy": "2022-05-19T18:12:02.522313Z",
     "iopub.status.idle": "2022-05-19T18:12:07.637812Z",
     "shell.execute_reply": "2022-05-19T18:12:07.636401Z",
     "shell.execute_reply.started": "2022-05-19T18:12:02.522785Z"
    },
    "tags": []
   },
   "outputs": [
    {
     "name": "stdout",
     "output_type": "stream",
     "text": [
      "CPU times: user 1.95 ms, sys: 2.97 ms, total: 4.91 ms\n",
      "Wall time: 5.1 s\n"
     ]
    }
   ],
   "source": [
    "#read input dataset from parquet\n",
    "\n",
    "inputFile = 'hdfs://192.168.2.39/data/Higgs10M.parquet'\n",
    "#inputFile = 'hdfs://192.168.2.39/data/Higgs1M.parquet'\n",
    "#inputFile = 'hdfs://192.168.2.39/data/Higgs100k.parquet' \n",
    "#other files are: Higgs1M.parquet, Higgs100k.parquet\n",
    "\n",
    "%time df = spark_session.read.format('parquet').option('header', 'true').option('inferschema', 'true').load(inputFile)"
   ]
  },
  {
   "cell_type": "code",
   "execution_count": 5,
   "metadata": {
    "execution": {
     "iopub.execute_input": "2022-05-19T18:12:07.642536Z",
     "iopub.status.busy": "2022-05-19T18:12:07.642016Z",
     "iopub.status.idle": "2022-05-19T18:12:11.742614Z",
     "shell.execute_reply": "2022-05-19T18:12:11.741258Z",
     "shell.execute_reply.started": "2022-05-19T18:12:07.642477Z"
    },
    "tags": []
   },
   "outputs": [
    {
     "name": "stdout",
     "output_type": "stream",
     "text": [
      "There are 9560096 events\n"
     ]
    }
   ],
   "source": [
    "total_events = df.count()\n",
    "\n",
    "print('There are '+str(total_events)+' events')"
   ]
  },
  {
   "cell_type": "markdown",
   "metadata": {},
   "source": [
    "### QUESTION 1: is the dataset unbalanced? Do we need undersampling?"
   ]
  },
  {
   "cell_type": "markdown",
   "metadata": {},
   "source": [
    "I think the dataset is slightly imbalanced towards the events with label 1, but the number of data for each label is pretty similar. For this reason I don't think we will incur in problems of imbalanced datasets.\n",
    "\n",
    "As I don't think there really is a problem with imbalanced datasets, I don't think we need to resample them with undersampling techniques."
   ]
  },
  {
   "cell_type": "markdown",
   "metadata": {},
   "source": [
    "| Sample | Data with label 0 | Data with label 1 |\n",
    "| :-: | :-: | :-: |\n",
    "| Higgs10M | 4494163 | 5065933 |\n",
    "| Higgs1M | 460646 | 518873 |\n",
    "| Higgs100k | 47166 | 52833 |"
   ]
  },
  {
   "cell_type": "code",
   "execution_count": 6,
   "metadata": {
    "execution": {
     "iopub.execute_input": "2022-05-19T18:12:11.745383Z",
     "iopub.status.busy": "2022-05-19T18:12:11.744766Z",
     "iopub.status.idle": "2022-05-19T18:12:11.751365Z",
     "shell.execute_reply": "2022-05-19T18:12:11.750100Z",
     "shell.execute_reply.started": "2022-05-19T18:12:11.745323Z"
    }
   },
   "outputs": [],
   "source": [
    "# motivate your answer here"
   ]
  },
  {
   "cell_type": "code",
   "execution_count": 7,
   "metadata": {
    "execution": {
     "iopub.execute_input": "2022-05-19T18:12:11.753490Z",
     "iopub.status.busy": "2022-05-19T18:12:11.753002Z",
     "iopub.status.idle": "2022-05-19T18:12:15.534366Z",
     "shell.execute_reply": "2022-05-19T18:12:15.533638Z",
     "shell.execute_reply.started": "2022-05-19T18:12:11.753451Z"
    },
    "tags": []
   },
   "outputs": [
    {
     "name": "stdout",
     "output_type": "stream",
     "text": [
      "Number of data with label 0:  4494163\n",
      "Number of data with label 1:  5065933\n"
     ]
    }
   ],
   "source": [
    "# counting the occurrences of lables 1 and 0 in the dataset\n",
    "print('Number of data with label 0: ', df.where(df.label == 0.0).count())\n",
    "print('Number of data with label 1: ', df.where(df.label == 1.0).count())"
   ]
  },
  {
   "cell_type": "markdown",
   "metadata": {},
   "source": [
    "### QUESTION 2: Split the dataset into 5 parts with random events"
   ]
  },
  {
   "cell_type": "code",
   "execution_count": 8,
   "metadata": {
    "execution": {
     "iopub.execute_input": "2022-05-19T18:12:15.535691Z",
     "iopub.status.busy": "2022-05-19T18:12:15.535353Z",
     "iopub.status.idle": "2022-05-19T18:12:15.538530Z",
     "shell.execute_reply": "2022-05-19T18:12:15.538069Z",
     "shell.execute_reply.started": "2022-05-19T18:12:15.535656Z"
    }
   },
   "outputs": [],
   "source": [
    "#your answer goes here"
   ]
  },
  {
   "cell_type": "code",
   "execution_count": 9,
   "metadata": {
    "execution": {
     "iopub.execute_input": "2022-05-19T18:12:15.539663Z",
     "iopub.status.busy": "2022-05-19T18:12:15.539362Z",
     "iopub.status.idle": "2022-05-19T18:13:02.920177Z",
     "shell.execute_reply": "2022-05-19T18:13:02.918589Z",
     "shell.execute_reply.started": "2022-05-19T18:12:15.539639Z"
    },
    "tags": []
   },
   "outputs": [
    {
     "name": "stdout",
     "output_type": "stream",
     "text": [
      "Number of data in split1 954732\n",
      "Number of data in split2 2869278\n",
      "Number of data in split3 2870442\n",
      "Number of data in split4 1910226\n",
      "Number of data in split5 955418\n"
     ]
    }
   ],
   "source": [
    "split1, split2, split3, split4, split5 = df.randomSplit([0.1, 0.3, 0.3, 0.2, 0.1])\n",
    "\n",
    "print('Number of data in split1', split1.count())\n",
    "print('Number of data in split2', split2.count())\n",
    "print('Number of data in split3', split3.count())\n",
    "print('Number of data in split4', split4.count())\n",
    "print('Number of data in split5', split5.count())"
   ]
  },
  {
   "cell_type": "markdown",
   "metadata": {},
   "source": [
    "### QUESTION 3: split the dataset for training and test"
   ]
  },
  {
   "cell_type": "code",
   "execution_count": 10,
   "metadata": {
    "execution": {
     "iopub.execute_input": "2022-05-19T18:13:02.923183Z",
     "iopub.status.busy": "2022-05-19T18:13:02.922656Z",
     "iopub.status.idle": "2022-05-19T18:13:02.929016Z",
     "shell.execute_reply": "2022-05-19T18:13:02.927878Z",
     "shell.execute_reply.started": "2022-05-19T18:13:02.923122Z"
    },
    "tags": []
   },
   "outputs": [],
   "source": [
    "# your answer goes here\n",
    "# split into two dataframes called training and test"
   ]
  },
  {
   "cell_type": "code",
   "execution_count": 11,
   "metadata": {
    "execution": {
     "iopub.execute_input": "2022-05-19T18:13:02.931071Z",
     "iopub.status.busy": "2022-05-19T18:13:02.930543Z",
     "iopub.status.idle": "2022-05-19T18:13:02.990347Z",
     "shell.execute_reply": "2022-05-19T18:13:02.988584Z",
     "shell.execute_reply.started": "2022-05-19T18:13:02.931031Z"
    },
    "tags": []
   },
   "outputs": [],
   "source": [
    "training, test = df.randomSplit([0.75,0.25])"
   ]
  },
  {
   "cell_type": "markdown",
   "metadata": {},
   "source": [
    "#### Create the input feature vector\n",
    "\n",
    "Documentation on how to do data preprocessing in Spark: https://spark.apache.org/docs/latest/ml-features.html"
   ]
  },
  {
   "cell_type": "code",
   "execution_count": 12,
   "metadata": {
    "execution": {
     "iopub.execute_input": "2022-05-19T18:13:02.991889Z",
     "iopub.status.busy": "2022-05-19T18:13:02.991691Z",
     "iopub.status.idle": "2022-05-19T18:13:03.226475Z",
     "shell.execute_reply": "2022-05-19T18:13:03.225396Z",
     "shell.execute_reply.started": "2022-05-19T18:13:02.991866Z"
    },
    "tags": []
   },
   "outputs": [],
   "source": [
    "feature = training.columns\n",
    "feature.remove('label')\n",
    "\n",
    "# VectorAssembler is a transformer that combines a given list of columns into a single vector column\n",
    "from pyspark.ml.feature import VectorAssembler\n",
    "assembler = VectorAssembler(inputCols=feature, outputCol='features')\n",
    "\n",
    "training = assembler.transform(training)\n",
    "test = assembler.transform(test)"
   ]
  },
  {
   "cell_type": "markdown",
   "metadata": {},
   "source": [
    "## ML with pyspark\n",
    "\n",
    "Try to solve the signal vs background classification problem using a new algorithm of your choice (obviously, not GBT or MCP)\n",
    "Documentation at: https://spark.apache.org/docs/2.2.0/ml-classification-regression.html"
   ]
  },
  {
   "cell_type": "code",
   "execution_count": 13,
   "metadata": {
    "execution": {
     "iopub.execute_input": "2022-05-19T18:13:03.229017Z",
     "iopub.status.busy": "2022-05-19T18:13:03.228510Z",
     "iopub.status.idle": "2022-05-19T18:13:03.237076Z",
     "shell.execute_reply": "2022-05-19T18:13:03.235510Z",
     "shell.execute_reply.started": "2022-05-19T18:13:03.228958Z"
    },
    "tags": []
   },
   "outputs": [],
   "source": [
    "from pyspark.ml.classification import *\n",
    "from pyspark.ml.evaluation import BinaryClassificationEvaluator"
   ]
  },
  {
   "cell_type": "code",
   "execution_count": 14,
   "metadata": {
    "execution": {
     "iopub.execute_input": "2022-05-19T18:13:03.243857Z",
     "iopub.status.busy": "2022-05-19T18:13:03.243339Z",
     "iopub.status.idle": "2022-05-19T18:13:03.323710Z",
     "shell.execute_reply": "2022-05-19T18:13:03.322301Z",
     "shell.execute_reply.started": "2022-05-19T18:13:03.243796Z"
    }
   },
   "outputs": [],
   "source": [
    "# your answer goes here"
   ]
  },
  {
   "cell_type": "code",
   "execution_count": 15,
   "metadata": {
    "execution": {
     "iopub.execute_input": "2022-05-19T18:13:03.326475Z",
     "iopub.status.busy": "2022-05-19T18:13:03.325733Z",
     "iopub.status.idle": "2022-05-19T18:13:03.405961Z",
     "shell.execute_reply": "2022-05-19T18:13:03.404528Z",
     "shell.execute_reply.started": "2022-05-19T18:13:03.326414Z"
    },
    "tags": []
   },
   "outputs": [],
   "source": [
    "lsvc = LinearSVC(labelCol='label', featuresCol='features', maxIter=10, regParam=0.1)"
   ]
  },
  {
   "cell_type": "markdown",
   "metadata": {},
   "source": [
    "Let's fit the model on the **training dataset**:"
   ]
  },
  {
   "cell_type": "code",
   "execution_count": 16,
   "metadata": {
    "execution": {
     "iopub.execute_input": "2022-05-19T18:13:03.408558Z",
     "iopub.status.busy": "2022-05-19T18:13:03.408089Z",
     "iopub.status.idle": "2022-05-19T18:13:03.413919Z",
     "shell.execute_reply": "2022-05-19T18:13:03.412835Z",
     "shell.execute_reply.started": "2022-05-19T18:13:03.408506Z"
    }
   },
   "outputs": [],
   "source": [
    "# your answer goes here"
   ]
  },
  {
   "cell_type": "code",
   "execution_count": 17,
   "metadata": {
    "execution": {
     "iopub.execute_input": "2022-05-19T18:13:03.416472Z",
     "iopub.status.busy": "2022-05-19T18:13:03.415927Z",
     "iopub.status.idle": "2022-05-19T18:13:31.995326Z",
     "shell.execute_reply": "2022-05-19T18:13:31.993760Z",
     "shell.execute_reply.started": "2022-05-19T18:13:03.416419Z"
    },
    "tags": []
   },
   "outputs": [
    {
     "name": "stdout",
     "output_type": "stream",
     "text": [
      "CPU times: user 17.8 ms, sys: 8.61 ms, total: 26.4 ms\n",
      "Wall time: 28.5 s\n"
     ]
    }
   ],
   "source": [
    "%%time\n",
    "lsvc_model = lsvc.fit(training)"
   ]
  },
  {
   "cell_type": "markdown",
   "metadata": {},
   "source": [
    "#### QUESTION 4: Compute the accuracy on the test dataset"
   ]
  },
  {
   "cell_type": "code",
   "execution_count": 18,
   "metadata": {
    "execution": {
     "iopub.execute_input": "2022-05-19T18:13:31.998278Z",
     "iopub.status.busy": "2022-05-19T18:13:31.997618Z",
     "iopub.status.idle": "2022-05-19T18:13:32.004401Z",
     "shell.execute_reply": "2022-05-19T18:13:32.003054Z",
     "shell.execute_reply.started": "2022-05-19T18:13:31.998216Z"
    }
   },
   "outputs": [],
   "source": [
    "#your answer goes here"
   ]
  },
  {
   "cell_type": "code",
   "execution_count": 19,
   "metadata": {
    "execution": {
     "iopub.execute_input": "2022-05-19T18:13:32.007117Z",
     "iopub.status.busy": "2022-05-19T18:13:32.006484Z",
     "iopub.status.idle": "2022-05-19T18:13:32.107636Z",
     "shell.execute_reply": "2022-05-19T18:13:32.105847Z",
     "shell.execute_reply.started": "2022-05-19T18:13:32.007057Z"
    },
    "tags": []
   },
   "outputs": [],
   "source": [
    "prediction = lsvc_model.transform(test)\n",
    "prediction.head()"
   ]
  },
  {
   "cell_type": "code",
   "execution_count": 21,
   "metadata": {
    "execution": {
     "iopub.execute_input": "2022-05-19T18:13:33.856060Z",
     "iopub.status.busy": "2022-05-19T18:13:33.855869Z",
     "iopub.status.idle": "2022-05-19T18:13:49.840750Z",
     "shell.execute_reply": "2022-05-19T18:13:49.839187Z",
     "shell.execute_reply.started": "2022-05-19T18:13:33.856036Z"
    },
    "tags": []
   },
   "outputs": [
    {
     "name": "stdout",
     "output_type": "stream",
     "text": [
      "Test set AUC = 0.6576913230210126\n"
     ]
    }
   ],
   "source": [
    "evaluator = BinaryClassificationEvaluator(labelCol='label', metricName=\"areaUnderROC\")\n",
    "\n",
    "print(\"Test set AUC = \" + str(evaluator.evaluate(prediction)))"
   ]
  },
  {
   "cell_type": "code",
   "execution_count": 22,
   "metadata": {
    "execution": {
     "iopub.execute_input": "2022-05-19T18:13:49.843637Z",
     "iopub.status.busy": "2022-05-19T18:13:49.843007Z",
     "iopub.status.idle": "2022-05-19T18:15:02.148613Z",
     "shell.execute_reply": "2022-05-19T18:15:02.147677Z",
     "shell.execute_reply.started": "2022-05-19T18:13:49.843581Z"
    },
    "tags": []
   },
   "outputs": [
    {
     "data": {
      "image/png": "[encoded data removed]",
      "text/plain": [
       "<Figure size 360x360 with 1 Axes>"
      ]
     },
     "metadata": {
      "needs_background": "light"
     },
     "output_type": "display_data"
    }
   ],
   "source": [
    "import matplotlib.pyplot as plt\n",
    "from sklearn import metrics\n",
    "\n",
    "#make ROC curve\n",
    "roc = lsvc_model.summary().roc\n",
    "fpr = np.asarray(roc.select('FPR').collect())\n",
    "tpr = np.asarray(roc.select('TPR').collect())\n",
    "\n",
    "y_pred = np.asarray(prediction.select('prediction').collect())\n",
    "y_true = np.asarray(prediction.select('label').collect())\n",
    "\n",
    "auc = metrics.roc_auc_score(y_true, y_pred)\n",
    "\n",
    "plt.figure(figsize=(5,5))\n",
    "plt.plot([0, 1], [0, 1], 'r--')\n",
    "plt.plot(fpr, tpr, label = \"AUC = \" + str(auc))\n",
    "plt.xlabel('FPR')\n",
    "plt.ylabel('TPR')\n",
    "plt.legend(loc=4)\n",
    "plt.show()"
   ]
  },
  {
   "cell_type": "code",
   "execution_count": 23,
   "metadata": {
    "execution": {
     "iopub.execute_input": "2022-05-19T18:15:02.150142Z",
     "iopub.status.busy": "2022-05-19T18:15:02.149970Z",
     "iopub.status.idle": "2022-05-19T18:16:56.916889Z",
     "shell.execute_reply": "2022-05-19T18:16:56.915010Z",
     "shell.execute_reply.started": "2022-05-19T18:15:02.150123Z"
    },
    "tags": []
   },
   "outputs": [
    {
     "data": {
      "image/png": "[encoded data removed]",
      "text/plain": [
       "<Figure size 432x288 with 1 Axes>"
      ]
     },
     "metadata": {
      "needs_background": "light"
     },
     "output_type": "display_data"
    }
   ],
   "source": [
    "plotSignalvsBgWithPrediction(test, prediction, 'm_bb')"
   ]
  },
  {
   "cell_type": "markdown",
   "metadata": {},
   "source": [
    "#### QUESTION 5: Are we over/under-fitting the data? How could the accuracy be improved?"
   ]
  },
  {
   "cell_type": "code",
   "execution_count": 24,
   "metadata": {
    "execution": {
     "iopub.execute_input": "2022-05-19T18:16:56.920544Z",
     "iopub.status.busy": "2022-05-19T18:16:56.920025Z",
     "iopub.status.idle": "2022-05-19T18:16:56.928745Z",
     "shell.execute_reply": "2022-05-19T18:16:56.927003Z",
     "shell.execute_reply.started": "2022-05-19T18:16:56.920483Z"
    }
   },
   "outputs": [],
   "source": [
    "#your answer goes here"
   ]
  },
  {
   "cell_type": "code",
   "execution_count": 25,
   "metadata": {
    "execution": {
     "iopub.execute_input": "2022-05-19T18:16:56.931801Z",
     "iopub.status.busy": "2022-05-19T18:16:56.931281Z",
     "iopub.status.idle": "2022-05-19T18:17:31.396734Z",
     "shell.execute_reply": "2022-05-19T18:17:31.394948Z",
     "shell.execute_reply.started": "2022-05-19T18:16:56.931740Z"
    },
    "tags": []
   },
   "outputs": [
    {
     "name": "stdout",
     "output_type": "stream",
     "text": [
      "Training set AUC = 0.6577439936991882\n",
      "Test set AUC = 0.6576914198606136\n"
     ]
    }
   ],
   "source": [
    "train_prediction = lsvc_model.transform(training)\n",
    "print(\"Training set AUC = \" + str(evaluator.evaluate(train_prediction)))\n",
    "print(\"Test set AUC = \" + str(evaluator.evaluate(prediction)))"
   ]
  },
  {
   "cell_type": "markdown",
   "metadata": {},
   "source": [
    "As the AUC for the training set and for the test set are very similar, it seems that the model is not over- or underfitting the data.\n",
    "\n",
    "The accuracy can be improved by selecting appropriate values for the hyperparameters regParam and maxIter."
   ]
  },
  {
   "cell_type": "markdown",
   "metadata": {},
   "source": [
    "#### Hyperparameter tuning\n",
    "\n",
    "We use the *spark_sklearn.grid_search* method."
   ]
  },
  {
   "cell_type": "code",
   "execution_count": 26,
   "metadata": {
    "execution": {
     "iopub.execute_input": "2022-05-19T18:17:31.399879Z",
     "iopub.status.busy": "2022-05-19T18:17:31.399184Z",
     "iopub.status.idle": "2022-05-19T18:17:41.748424Z",
     "shell.execute_reply": "2022-05-19T18:17:41.746875Z",
     "shell.execute_reply.started": "2022-05-19T18:17:31.399817Z"
    },
    "tags": []
   },
   "outputs": [
    {
     "name": "stdout",
     "output_type": "stream",
     "text": [
      "We will use 718163  events for the grid search.\n"
     ]
    }
   ],
   "source": [
    "subSample = training.sample(fraction=1.0/10, withReplacement=False).cache()\n",
    "print('We will use',subSample.count(),' events for the grid search.')\n",
    "\n",
    "from pyspark.ml.tuning import ParamGridBuilder, CrossValidator, TrainValidationSplit\n",
    "from pyspark.ml.evaluation import BinaryClassificationEvaluator\n",
    "\n",
    "evaluator=BinaryClassificationEvaluator(metricName='areaUnderROC')\n",
    "\n",
    "lsvc = LinearSVC(labelCol='label', featuresCol='features', maxIter=10, regParam=0.1, tol=1e-8)\n",
    "\n",
    "#choose hyperparameter space\n",
    "regressionParam = np.logspace(-7, -3, num = 15)\n",
    "iteration = np.linspace(10, 30, num = 3)\n",
    "paramGrid = ParamGridBuilder().addGrid(lsvc.regParam, regressionParam).addGrid(lsvc.maxIter, iteration).build()"
   ]
  },
  {
   "cell_type": "code",
   "execution_count": 31,
   "metadata": {
    "execution": {
     "iopub.execute_input": "2022-05-19T19:09:45.570376Z",
     "iopub.status.busy": "2022-05-19T19:09:45.569116Z",
     "iopub.status.idle": "2022-05-19T19:09:45.580239Z",
     "shell.execute_reply": "2022-05-19T19:09:45.578846Z",
     "shell.execute_reply.started": "2022-05-19T19:09:45.570306Z"
    },
    "tags": []
   },
   "outputs": [
    {
     "name": "stdout",
     "output_type": "stream",
     "text": [
      "[1.00000000e-07 1.93069773e-07 3.72759372e-07 7.19685673e-07\n",
      " 1.38949549e-06 2.68269580e-06 5.17947468e-06 1.00000000e-05\n",
      " 1.93069773e-05 3.72759372e-05 7.19685673e-05 1.38949549e-04\n",
      " 2.68269580e-04 5.17947468e-04 1.00000000e-03]\n"
     ]
    }
   ],
   "source": [
    "print(regressionParam)"
   ]
  },
  {
   "cell_type": "markdown",
   "metadata": {},
   "source": [
    "##### QUESTION 6: Compare n k-cross validator vs TrainValidation split methods "
   ]
  },
  {
   "cell_type": "code",
   "execution_count": 27,
   "metadata": {
    "execution": {
     "iopub.execute_input": "2022-05-19T18:17:41.750713Z",
     "iopub.status.busy": "2022-05-19T18:17:41.750327Z",
     "iopub.status.idle": "2022-05-19T18:17:41.756294Z",
     "shell.execute_reply": "2022-05-19T18:17:41.755115Z",
     "shell.execute_reply.started": "2022-05-19T18:17:41.750652Z"
    }
   },
   "outputs": [],
   "source": [
    "#your answer goes here"
   ]
  },
  {
   "cell_type": "code",
   "execution_count": 28,
   "metadata": {
    "execution": {
     "iopub.execute_input": "2022-05-19T18:17:41.759120Z",
     "iopub.status.busy": "2022-05-19T18:17:41.758547Z",
     "iopub.status.idle": "2022-05-19T18:23:35.170358Z",
     "shell.execute_reply": "2022-05-19T18:23:35.168656Z",
     "shell.execute_reply.started": "2022-05-19T18:17:41.759059Z"
    },
    "tags": []
   },
   "outputs": [
    {
     "name": "stdout",
     "output_type": "stream",
     "text": [
      "regParam = 1.9306977288832496e-05\n",
      "maxIter = 20\n",
      "Test  set AUC = 0.6836290359052117\n",
      "Train set AUC = 0.683633775519311\n",
      "CPU times: user 1.52 s, sys: 617 ms, total: 2.14 s\n",
      "Wall time: 5min 53s\n"
     ]
    }
   ],
   "source": [
    "%%time \n",
    "tvs = TrainValidationSplit(estimator=lsvc, estimatorParamMaps=paramGrid, evaluator=evaluator, trainRatio=0.8)\n",
    "\n",
    "bestModel = tvs.fit(subSample)\n",
    "\n",
    "print('regParam = '+str(bestModel.bestModel._java_obj.getRegParam()))\n",
    "print('maxIter = '+str(bestModel.bestModel._java_obj.getMaxIter()))\n",
    "\n",
    "test_prediction = bestModel.transform(test)\n",
    "train_prediction = bestModel.transform(training)\n",
    "\n",
    "evaluator = BinaryClassificationEvaluator(labelCol='label', metricName=\"areaUnderROC\")\n",
    "\n",
    "print(\"Test  set AUC = \" + str(evaluator.evaluate(test_prediction)))\n",
    "print(\"Train set AUC = \" + str(evaluator.evaluate(train_prediction)))"
   ]
  },
  {
   "cell_type": "code",
   "execution_count": 29,
   "metadata": {
    "execution": {
     "iopub.execute_input": "2022-05-19T18:23:35.173289Z",
     "iopub.status.busy": "2022-05-19T18:23:35.172808Z",
     "iopub.status.idle": "2022-05-19T18:25:28.759044Z",
     "shell.execute_reply": "2022-05-19T18:25:28.757498Z",
     "shell.execute_reply.started": "2022-05-19T18:23:35.173230Z"
    },
    "tags": []
   },
   "outputs": [
    {
     "data": {
      "image/png": "[encoded data removed]",
      "text/plain": [
       "<Figure size 432x288 with 1 Axes>"
      ]
     },
     "metadata": {
      "needs_background": "light"
     },
     "output_type": "display_data"
    }
   ],
   "source": [
    "plotSignalvsBgWithPrediction(test, test_prediction, 'm_bb')"
   ]
  },
  {
   "cell_type": "code",
   "execution_count": 30,
   "metadata": {
    "execution": {
     "iopub.execute_input": "2022-05-19T18:25:28.761980Z",
     "iopub.status.busy": "2022-05-19T18:25:28.761318Z",
     "iopub.status.idle": "2022-05-19T19:09:45.565339Z",
     "shell.execute_reply": "2022-05-19T19:09:45.563413Z",
     "shell.execute_reply.started": "2022-05-19T18:25:28.761919Z"
    },
    "tags": []
   },
   "outputs": [
    {
     "name": "stdout",
     "output_type": "stream",
     "text": [
      "regParam = 1e-07\n",
      "maxIter = 30\n",
      "Test  set AUC = 0.6835798304792311\n",
      "Train set AUC = 0.6835814420754579\n",
      "CPU times: user 15.6 s, sys: 6.58 s, total: 22.2 s\n",
      "Wall time: 44min 16s\n"
     ]
    }
   ],
   "source": [
    "%%time \n",
    "cv = CrossValidator(estimator=lsvc, evaluator=evaluator, estimatorParamMaps=paramGrid, numFolds=10, parallelism=num_workers)\n",
    "\n",
    "bestModel = cv.fit(subSample)\n",
    "\n",
    "print('regParam = '+str(bestModel.bestModel._java_obj.getRegParam()))\n",
    "print('maxIter = '+str(bestModel.bestModel._java_obj.getMaxIter()))\n",
    "\n",
    "test_prediction = bestModel.transform(test)\n",
    "train_prediction = bestModel.transform(training)\n",
    "\n",
    "evaluator = BinaryClassificationEvaluator(labelCol='label', metricName=\"areaUnderROC\")\n",
    "\n",
    "print(\"Test  set AUC = \" + str(evaluator.evaluate(test_prediction)))\n",
    "print(\"Train set AUC = \" + str(evaluator.evaluate(train_prediction)))"
   ]
  },
  {
   "cell_type": "code",
   "execution_count": 32,
   "metadata": {
    "execution": {
     "iopub.execute_input": "2022-05-19T19:09:45.581877Z",
     "iopub.status.busy": "2022-05-19T19:09:45.581647Z",
     "iopub.status.idle": "2022-05-19T19:11:44.103654Z",
     "shell.execute_reply": "2022-05-19T19:11:44.102177Z",
     "shell.execute_reply.started": "2022-05-19T19:09:45.581851Z"
    }
   },
   "outputs": [
    {
     "data": {
      "image/png": "[encoded data removed]",
      "text/plain": [
       "<Figure size 432x288 with 1 Axes>"
      ]
     },
     "metadata": {
      "needs_background": "light"
     },
     "output_type": "display_data"
    }
   ],
   "source": [
    "plotSignalvsBgWithPrediction(test, test_prediction, 'm_bb')"
   ]
  },
  {
   "cell_type": "markdown",
   "metadata": {},
   "source": [
    "#### QUESTION 7: do you get a better accuracy? Why? Are you over/underfitting?"
   ]
  },
  {
   "cell_type": "markdown",
   "metadata": {},
   "source": [
    "There isn't a problem of over- or underfitting as the AUC of the train and the test sets are similar with both the k-fold cross validator and the train validator.\n",
    "\n",
    "The accuracy is only slighted improved: it may be necessary to further improve the search for the right parameters using other grids. It is also possible that this algorithm is not efficient in discriminating these events, so it may be useful to try another algorithm."
   ]
  },
  {
   "cell_type": "markdown",
   "metadata": {},
   "source": [
    "| Model | Training set AUC | Test set AUC |\n",
    "| :-: | :-: | :-: |\n",
    "| no validation | 0.6564022343586368 | 0.6565433950801117 |\n",
    "| k-fold cross validator | 0.683633775519311 | 0.6836290359052117 |\n",
    "| train validator | 0.6835798304792311 | 0.6835814420754579 |"
   ]
  },
  {
   "cell_type": "code",
   "execution_count": 33,
   "metadata": {
    "execution": {
     "iopub.execute_input": "2022-05-19T19:11:44.106470Z",
     "iopub.status.busy": "2022-05-19T19:11:44.105964Z",
     "iopub.status.idle": "2022-05-19T19:11:45.462685Z",
     "shell.execute_reply": "2022-05-19T19:11:45.460997Z",
     "shell.execute_reply.started": "2022-05-19T19:11:44.106411Z"
    },
    "tags": []
   },
   "outputs": [],
   "source": [
    "# When you're done, stop spark\n",
    "spark.stop()"
   ]
  },
  {
   "cell_type": "markdown",
   "metadata": {},
   "source": [
    "#### QUESTION 8\n",
    "\n",
    "pick any two models (can be any from pyspark MLLib, Keras Sequential, BigDL sequential) and:\n",
    "- compare them in terms of performances (you can use results from previous days)\n",
    "- compare how they scale in terms of performances and training time when you change the number of executors (for example, from 1 to 5)\n",
    "- discuss the results"
   ]
  },
  {
   "cell_type": "code",
   "execution_count": 37,
   "metadata": {
    "execution": {
     "iopub.execute_input": "2022-05-19T20:57:34.418491Z",
     "iopub.status.busy": "2022-05-19T20:57:34.417744Z",
     "iopub.status.idle": "2022-05-19T21:01:34.071641Z",
     "shell.execute_reply": "2022-05-19T21:01:34.070832Z",
     "shell.execute_reply.started": "2022-05-19T20:57:34.418426Z"
    },
    "tags": []
   },
   "outputs": [
    {
     "name": "stdout",
     "output_type": "stream",
     "text": [
      "GBT: Time =  75.75706839561462 \n",
      "     AUC =   0.7805370540609292\n",
      "MCP: Time =  132.6515338420868 \n",
      "     AUC =   0.731770032906414\n"
     ]
    }
   ],
   "source": [
    "import time\n",
    "import array\n",
    "\n",
    "worker = 7\n",
    "\n",
    "spark=%sc $worker\n",
    "spark_session = SparkSession(spark)\n",
    "\n",
    "# import and preprocessing of the data\n",
    "inputFile = 'hdfs://192.168.2.39/data/Higgs10M.parquet'\n",
    "df = spark_session.read.format('parquet').option('header', 'true').option('inferschema', 'true').load(inputFile)\n",
    "\n",
    "training, test = df.randomSplit([0.75,0.25])\n",
    "\n",
    "feature = training.columns\n",
    "feature.remove('label')\n",
    "assembler = VectorAssembler(inputCols=feature, outputCol='features')\n",
    "\n",
    "training = assembler.transform(training)\n",
    "test = assembler.transform(test)\n",
    "\n",
    "# GBT Model\n",
    "gbt = GBTClassifier(labelCol='label', featuresCol='features', maxIter=20, maxDepth=5)\n",
    "\n",
    "start_gbt = time.time()\n",
    "\n",
    "gbt_model = gbt.fit(training)\n",
    "\n",
    "end_gbt = time.time()\n",
    "time_gbt = end_gbt - start_gbt\n",
    "\n",
    "gbt_test_prediction = gbt_model.transform(test)\n",
    "gbt_training_prediction = gbt_model.transform(training)\n",
    "\n",
    "evaluator = BinaryClassificationEvaluator(labelCol='label', metricName=\"areaUnderROC\")\n",
    "\n",
    "# MCP Model\n",
    "layers = [28, 30, 30, 2]\n",
    "mpc = MultilayerPerceptronClassifier(labelCol='label', featuresCol='features', maxIter=100, layers=layers, blockSize=128, seed=24)\n",
    "\n",
    "start_mpc = time.time()\n",
    "\n",
    "mpc_model = mpc.fit(training)\n",
    "\n",
    "end_mpc = time.time()\n",
    "time_mpc = end_mpc - start_mpc\n",
    "\n",
    "mpc_test_prediction = mpc_model.transform(test)\n",
    "mpc_training_prediction = mpc_model.transform(training)\n",
    "\n",
    "print(\"GBT: Time = \", time_gbt, \"\\n     AUC =  \", evaluator.evaluate(gbt_test_prediction))\n",
    "print(\"MCP: Time = \", time_mpc, \"\\n     AUC =  \", evaluator.evaluate(mpc_test_prediction))\n",
    "\n",
    "spark.stop()"
   ]
  },
  {
   "cell_type": "code",
   "execution_count": 46,
   "metadata": {
    "execution": {
     "iopub.execute_input": "2022-05-20T07:28:13.566209Z",
     "iopub.status.busy": "2022-05-20T07:28:13.565593Z",
     "iopub.status.idle": "2022-05-20T07:28:13.573794Z",
     "shell.execute_reply": "2022-05-20T07:28:13.572799Z",
     "shell.execute_reply.started": "2022-05-20T07:28:13.566146Z"
    },
    "tags": []
   },
   "outputs": [],
   "source": [
    "gbt_times = [167.34393000602722, 118.4838228225708, 108.58140110969543, 98.35930967330933, 83.87632656097412, 77.35144543647766, 75.75706839561462]\n",
    "gbt_accuracy = [0.7810099563941507, 0.7801938037732632, 0.7822454971419425, 0.7801787765271813, 0.7814400832742896, 0.7796227090904236, 0.7805370540609292]\n",
    "mcp_times = [604.4516849517822, 360.7102897167206, 313.90272331237793, 295.29990553855896, 169.2524218559265, 150.24481630325317, 132.6515338420868]\n",
    "mcp_accuracy = [0.7331491118531811, 0.7291310941633995, 0.7353281465842282, 0.7305753848096393, 0.7348223656092385, 0.7311687869394592, 0.731770032906414]"
   ]
  },
  {
   "cell_type": "markdown",
   "metadata": {
    "execution": {
     "iopub.execute_input": "2022-05-20T07:05:24.459066Z",
     "iopub.status.busy": "2022-05-20T07:05:24.458443Z",
     "iopub.status.idle": "2022-05-20T07:05:24.472585Z",
     "shell.execute_reply": "2022-05-20T07:05:24.471097Z",
     "shell.execute_reply.started": "2022-05-20T07:05:24.459003Z"
    },
    "tags": []
   },
   "source": [
    "Valori di tempo e accuratezza dei due modelli:"
   ]
  },
  {
   "cell_type": "markdown",
   "metadata": {},
   "source": [
    "| Workers | GBT: Time (s) | GBT: Accuracy | MCP: Time (s) | MCP: Accuracy |\n",
    "| :-----: | :--: | :------: | :--: | :------: |\n",
    "| 1 | 167.344 | 0.781 | 604.452 | 0.733 |\n",
    "| 2 | 118.484 | 0.780 | 360.710 | 0.730 |\n",
    "| 3 | 108.581 | 0.782 | 313.903 | 0.735 |\n",
    "| 4 | 98.359 | 0.780 | 295.300 | 0.731 |\n",
    "| 5 | 83.876 | 0.781 | 169.252 | 0.735 |\n",
    "| 6 | 77.351 | 0.780 | 150.245 | 0.731 |\n",
    "| 7 | 75.757 | 0.781 | 132.652 | 0.732 |"
   ]
  },
  {
   "cell_type": "markdown",
   "metadata": {},
   "source": [
    "The training and the test of the performances of the two models was conducted with the 10M event sample and the same splitting sub-sets.\n",
    "\n",
    "Increasing the number of workers leads to a great improvement in the time needed for the training of both the two models. The improvement is significant when adding the first 2 workers, while it is less significant adding further workers. Probably at some point it will be useless adding more workers, as there will not be further improvement in the elapsed time.\n",
    "\n",
    "While the time needed improves with the number of workers, the accuracy of the two models doesn't increase, as can be guessed a priori. The values are slightly different, it is consistent with the gaussian variations."
   ]
  }
 ],
 "metadata": {
  "kernelspec": {
   "display_name": "Python 3 (ipykernel)",
   "language": "python",
   "name": "python3"
  },
  "language_info": {
   "codemirror_mode": {
    "name": "ipython",
    "version": 3
   },
   "file_extension": ".py",
   "mimetype": "text/x-python",
   "name": "python",
   "nbconvert_exporter": "python",
   "pygments_lexer": "ipython3",
   "version": "3.9.7"
  },
  "sparkconnect": {
   "bundled_options": [],
   "list_of_options": []
  }
 },
 "nbformat": 4,
 "nbformat_minor": 4
}
