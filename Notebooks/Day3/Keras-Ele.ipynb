{
 "cells": [
  {
   "cell_type": "markdown",
   "metadata": {},
   "source": [
    "# You'll learn\n",
    "\n",
    "## ML methods\n",
    "\n",
    "- Deep NN with keras\n",
    "\n",
    "Course [slides](https://github.com/leggerf/MLCourse-2122/blob/master/Slides/Day3/Big%20data%20science%20-%20Day%203%20-%202122.pdf)"
   ]
  },
  {
   "cell_type": "code",
   "execution_count": 1,
   "metadata": {
    "execution": {
     "iopub.execute_input": "2022-03-09T09:27:32.317609Z",
     "iopub.status.busy": "2022-03-09T09:27:32.316848Z",
     "iopub.status.idle": "2022-03-09T09:27:35.126658Z",
     "shell.execute_reply": "2022-03-09T09:27:35.124905Z",
     "shell.execute_reply.started": "2022-03-09T09:27:32.317404Z"
    },
    "tags": []
   },
   "outputs": [],
   "source": [
    "%reload_ext custom_magics\n",
    "\n",
    "#ignore warnings from Tensorflow\n",
    "import warnings\n",
    "warnings.simplefilter(action='ignore', category=FutureWarning)\n",
    "#warnings.simplefilter(action='ignore', category=DeprecationWarning)\n",
    "import tensorflow as tf\n",
    "#if type(tf.contrib) != type(tf): tf.contrib._warning = None\n",
    "tf.compat.v1.logging.set_verbosity(tf.compat.v1.logging.ERROR)\n",
    "\n",
    "import pandas as pd\n",
    "import numpy as np\n",
    "import matplotlib.pyplot as plt\n",
    "%matplotlib inline\n",
    "\n",
    "from pyspark.ml.feature import VectorAssembler\n",
    "\n",
    "#import Keras \n",
    "from tensorflow.keras.models import Sequential\n",
    "from tensorflow.keras.layers import Dense\n",
    "from tensorflow.keras.layers import Dropout\n",
    "from tensorflow.keras import regularizers\n",
    "from tensorflow.keras.optimizers import SGD, Adam\n",
    "from tensorflow.keras.callbacks import EarlyStopping\n",
    "\n",
    "np.random.seed(1337)  # for reproducibility\n",
    "\n",
    "# Check out these custom functions\n",
    "from custom_functions import *"
   ]
  },
  {
   "cell_type": "code",
   "execution_count": 2,
   "metadata": {
    "execution": {
     "iopub.execute_input": "2022-03-09T09:27:35.128970Z",
     "iopub.status.busy": "2022-03-09T09:27:35.128609Z",
     "iopub.status.idle": "2022-03-09T09:27:44.722911Z",
     "shell.execute_reply": "2022-03-09T09:27:44.722180Z",
     "shell.execute_reply.started": "2022-03-09T09:27:35.128935Z"
    },
    "tags": []
   },
   "outputs": [
    {
     "data": {
      "text/html": [
       "\n",
       "        <div>\n",
       "            <p><b>SparkContext</b></p>\n",
       "\n",
       "            <p><a href=\"http://jupyter-leggerf.jhub.svc.cluster.local:4040\">Spark UI</a></p>\n",
       "\n",
       "            <dl>\n",
       "              <dt>Version</dt>\n",
       "                <dd><code>v3.2.1</code></dd>\n",
       "              <dt>Master</dt>\n",
       "                <dd><code>k8s://https://192.168.2.39:6443</code></dd>\n",
       "              <dt>AppName</dt>\n",
       "                <dd><code>jupyter-leggerf</code></dd>\n",
       "            </dl>\n",
       "        </div>\n",
       "        "
      ],
      "text/plain": [
       "<SparkContext master=k8s://https://192.168.2.39:6443 appName=jupyter-leggerf>"
      ]
     },
     "execution_count": 2,
     "metadata": {},
     "output_type": "execute_result"
    }
   ],
   "source": [
    "num_workers=5\n",
    "spark=%sc $num_workers\n",
    "\n",
    "from pyspark.sql import SparkSession\n",
    "spark_session = SparkSession(spark)\n",
    "\n",
    "#check if spark is there\n",
    "spark"
   ]
  },
  {
   "cell_type": "markdown",
   "metadata": {},
   "source": [
    "Keras training is not distributed, therefore you cannot feed the largest data sample (10M) or python will go out of memory! This is already a big limitation.  \n",
    "\n",
    "Still we need spark to be able to read in the input data from HDFS"
   ]
  },
  {
   "cell_type": "code",
   "execution_count": 3,
   "metadata": {
    "execution": {
     "iopub.execute_input": "2022-03-09T09:27:44.725464Z",
     "iopub.status.busy": "2022-03-09T09:27:44.725151Z",
     "iopub.status.idle": "2022-03-09T09:27:54.794507Z",
     "shell.execute_reply": "2022-03-09T09:27:54.792999Z",
     "shell.execute_reply.started": "2022-03-09T09:27:44.725426Z"
    },
    "tags": []
   },
   "outputs": [
    {
     "name": "stdout",
     "output_type": "stream",
     "text": [
      "There are 979519 events\n"
     ]
    }
   ],
   "source": [
    "# read in input data\n",
    "\n",
    "#inputFile = 'hdfs://192.168.2.39/data/Higgs100k.parquet'\n",
    "inputFile = 'hdfs://192.168.2.39/data/Higgs1M.parquet'\n",
    "#inputFile = 'hdfs://192.168.2.39/data/Higgs10M.parquet' # too large, doesn't fit in memory\n",
    "\n",
    "df = spark_session.read.format('parquet').option('header', 'true').option('inferschema', 'true').load(inputFile)\n",
    "\n",
    "total_events = df.count()\n",
    "print('There are '+str(total_events)+' events')"
   ]
  },
  {
   "cell_type": "code",
   "execution_count": 4,
   "metadata": {
    "execution": {
     "iopub.execute_input": "2022-03-09T09:27:54.797354Z",
     "iopub.status.busy": "2022-03-09T09:27:54.796712Z",
     "iopub.status.idle": "2022-03-09T09:28:37.238411Z",
     "shell.execute_reply": "2022-03-09T09:28:37.237087Z",
     "shell.execute_reply.started": "2022-03-09T09:27:54.797291Z"
    },
    "tags": []
   },
   "outputs": [
    {
     "name": "stdout",
     "output_type": "stream",
     "text": [
      "Events for training 783801\n",
      "Events for validation 195718\n"
     ]
    }
   ],
   "source": [
    "#df.show()\n",
    "X, y, X_test, y_test = prepareData(df, 0.2)\n",
    "\n",
    "print('Events for training '+str(len(y)))\n",
    "print('Events for validation '+str(len(y_test)))"
   ]
  },
  {
   "cell_type": "code",
   "execution_count": 5,
   "metadata": {
    "execution": {
     "iopub.execute_input": "2022-03-09T09:28:37.241993Z",
     "iopub.status.busy": "2022-03-09T09:28:37.241086Z",
     "iopub.status.idle": "2022-03-09T09:28:37.737857Z",
     "shell.execute_reply": "2022-03-09T09:28:37.736396Z",
     "shell.execute_reply.started": "2022-03-09T09:28:37.241925Z"
    },
    "tags": []
   },
   "outputs": [],
   "source": [
    "# When you're done, stop spark\n",
    "spark.stop()"
   ]
  },
  {
   "cell_type": "markdown",
   "metadata": {},
   "source": [
    "# Exercise 1\n",
    "\n",
    "- documentation: https://keras.io/getting-started/sequential-model-guide/\n",
    "- Build (compile) a Keras Sequential model (call it *model*)\n",
    "  - 1 hidden layer  with 100 neurons, activation ReLU (put in the correct input_shape!)\n",
    "  - 1 ouput layer with activation sigmoid\n",
    "  - use Adam optimiser\n",
    "  - use binary_crossentropy loss\n",
    "  - use accuracy metrics "
   ]
  },
  {
   "cell_type": "code",
   "execution_count": null,
   "metadata": {},
   "outputs": [],
   "source": [
    "# create the model\n",
    "\n",
    "# Compile the model\n"
   ]
  },
  {
   "cell_type": "code",
   "execution_count": null,
   "metadata": {},
   "outputs": [],
   "source": [
    "# simple early stopping\n",
    "es = EarlyStopping(monitor='val_loss', mode='min', verbose=1, patience=10)"
   ]
  },
  {
   "cell_type": "code",
   "execution_count": null,
   "metadata": {},
   "outputs": [],
   "source": [
    "%%time\n",
    "history = model.fit(X, y, batch_size=128, epochs=10, validation_data=(X_test, y_test), callbacks=[es]) #, verbose=0)"
   ]
  },
  {
   "cell_type": "code",
   "execution_count": null,
   "metadata": {},
   "outputs": [],
   "source": [
    "plotVsEpoch(history, 'loss')"
   ]
  },
  {
   "cell_type": "code",
   "execution_count": null,
   "metadata": {},
   "outputs": [],
   "source": [
    "plotVsEpoch(history, 'accuracy')"
   ]
  },
  {
   "cell_type": "code",
   "execution_count": null,
   "metadata": {},
   "outputs": [],
   "source": [
    "model.summary()"
   ]
  },
  {
   "cell_type": "code",
   "execution_count": null,
   "metadata": {},
   "outputs": [],
   "source": [
    "# apply model to get predictions on test set\n",
    "y_pred = model.predict(X_test)\n",
    "\n",
    "#draw ROC\n",
    "drawROC2(y_test, y_pred)"
   ]
  },
  {
   "cell_type": "code",
   "execution_count": null,
   "metadata": {},
   "outputs": [],
   "source": [
    "#do signal vs background plot\n",
    "x_test = X_test[:,25]\n",
    "variable = 'm_bb'\n",
    "\n",
    "plotSignalvsBgWithPrediction2(x_test, y_test, y_pred, variable)"
   ]
  },
  {
   "cell_type": "markdown",
   "metadata": {},
   "source": [
    "# Exercise 2\n",
    "\n",
    "- play with the model parameters and see if you can improve the performances (try to add hidden layers)\n",
    "- try to increase the number of epochs for training, is the model improving?\n",
    "- how is training time affected by the number of parameters?\n",
    "- how is signal versus background separation affected (check different variables)"
   ]
  }
 ],
 "metadata": {
  "kernelspec": {
   "display_name": "Python 3 (ipykernel)",
   "language": "python",
   "name": "python3"
  },
  "language_info": {
   "codemirror_mode": {
    "name": "ipython",
    "version": 3
   },
   "file_extension": ".py",
   "mimetype": "text/x-python",
   "name": "python",
   "nbconvert_exporter": "python",
   "pygments_lexer": "ipython3",
   "version": "3.9.7"
  },
  "sparkconnect": {
   "bundled_options": [],
   "list_of_options": [
    {
     "name": "spark.driver.maxResultSize",
     "value": "0"
    }
   ]
  }
 },
 "nbformat": 4,
 "nbformat_minor": 4
}
