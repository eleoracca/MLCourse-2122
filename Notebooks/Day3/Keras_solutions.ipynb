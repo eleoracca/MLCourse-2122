{
 "cells": [
  {
   "cell_type": "markdown",
   "metadata": {},
   "source": [
    "# You'll learn\n",
    "\n",
    "## ML methods\n",
    "\n",
    "- Deep NN with keras\n",
    "\n",
    "Course [slides](https://github.com/leggerf/MLCourse-2122/blob/master/Slides/Day3/Big%20data%20science%20-%20Day%203%20-%202122.pdf)"
   ]
  },
  {
   "cell_type": "code",
   "execution_count": 1,
   "metadata": {
    "execution": {
     "iopub.execute_input": "2022-03-17T14:44:06.060297Z",
     "iopub.status.busy": "2022-03-17T14:44:06.059413Z",
     "iopub.status.idle": "2022-03-17T14:44:08.778206Z",
     "shell.execute_reply": "2022-03-17T14:44:08.777445Z",
     "shell.execute_reply.started": "2022-03-17T14:44:06.060098Z"
    },
    "tags": []
   },
   "outputs": [],
   "source": [
    "%reload_ext custom_magics\n",
    "\n",
    "#ignore warnings from Tensorflow\n",
    "import warnings\n",
    "warnings.simplefilter(action='ignore', category=FutureWarning)\n",
    "#warnings.simplefilter(action='ignore', category=DeprecationWarning)\n",
    "import tensorflow as tf\n",
    "#if type(tf.contrib) != type(tf): tf.contrib._warning = None\n",
    "tf.compat.v1.logging.set_verbosity(tf.compat.v1.logging.ERROR)\n",
    "\n",
    "import pandas as pd\n",
    "import numpy as np\n",
    "import matplotlib.pyplot as plt\n",
    "%matplotlib inline\n",
    "\n",
    "from pyspark.ml.feature import VectorAssembler\n",
    "\n",
    "#import Keras \n",
    "from tensorflow.keras.models import Sequential\n",
    "from tensorflow.keras.layers import Dense\n",
    "from tensorflow.keras.layers import Dropout\n",
    "from tensorflow.keras import regularizers\n",
    "from tensorflow.keras.optimizers import SGD, Adam\n",
    "from tensorflow.keras.callbacks import EarlyStopping\n",
    "\n",
    "np.random.seed(1337)  # for reproducibility\n",
    "\n",
    "# Check out these custom functions\n",
    "from custom_functions import *"
   ]
  },
  {
   "cell_type": "code",
   "execution_count": 2,
   "metadata": {
    "execution": {
     "iopub.execute_input": "2022-03-17T14:44:08.779893Z",
     "iopub.status.busy": "2022-03-17T14:44:08.779704Z",
     "iopub.status.idle": "2022-03-17T14:44:18.738197Z",
     "shell.execute_reply": "2022-03-17T14:44:18.737347Z",
     "shell.execute_reply.started": "2022-03-17T14:44:08.779871Z"
    },
    "tags": []
   },
   "outputs": [
    {
     "data": {
      "text/html": [
       "\n",
       "        <div>\n",
       "            <p><b>SparkContext</b></p>\n",
       "\n",
       "            <p><a href=\"http://jupyter-leggerf.jhub.svc.cluster.local:4040\">Spark UI</a></p>\n",
       "\n",
       "            <dl>\n",
       "              <dt>Version</dt>\n",
       "                <dd><code>v3.2.1</code></dd>\n",
       "              <dt>Master</dt>\n",
       "                <dd><code>k8s://https://192.168.2.39:6443</code></dd>\n",
       "              <dt>AppName</dt>\n",
       "                <dd><code>jupyter-leggerf</code></dd>\n",
       "            </dl>\n",
       "        </div>\n",
       "        "
      ],
      "text/plain": [
       "<SparkContext master=k8s://https://192.168.2.39:6443 appName=jupyter-leggerf>"
      ]
     },
     "execution_count": 2,
     "metadata": {},
     "output_type": "execute_result"
    }
   ],
   "source": [
    "num_workers=5\n",
    "spark=%sc $num_workers\n",
    "\n",
    "from pyspark.sql import SparkSession\n",
    "spark_session = SparkSession(spark)\n",
    "\n",
    "#check if spark is there\n",
    "spark"
   ]
  },
  {
   "cell_type": "markdown",
   "metadata": {},
   "source": [
    "Keras training is not distributed, therefore you cannot feed the largest data sample (10M) or python will go out of memory! This is already a big limitation.  \n",
    "\n",
    "Still we need spark to be able to read in the input data from HDFS"
   ]
  },
  {
   "cell_type": "code",
   "execution_count": 3,
   "metadata": {
    "execution": {
     "iopub.execute_input": "2022-03-17T14:44:18.739888Z",
     "iopub.status.busy": "2022-03-17T14:44:18.739577Z",
     "iopub.status.idle": "2022-03-17T14:44:29.541561Z",
     "shell.execute_reply": "2022-03-17T14:44:29.540008Z",
     "shell.execute_reply.started": "2022-03-17T14:44:18.739864Z"
    },
    "tags": []
   },
   "outputs": [
    {
     "name": "stdout",
     "output_type": "stream",
     "text": [
      "There are 979519 events\n"
     ]
    }
   ],
   "source": [
    "# read in input data\n",
    "\n",
    "#inputFile = 'hdfs://192.168.2.39/data/Higgs100k.parquet'\n",
    "inputFile = 'hdfs://192.168.2.39/data/Higgs1M.parquet'\n",
    "#inputFile = 'hdfs://192.168.2.39/data/Higgs10M.parquet' # too large, doesn't fit in memory\n",
    "\n",
    "df = spark_session.read.format('parquet').option('header', 'true').option('inferschema', 'true').load(inputFile)\n",
    "\n",
    "total_events = df.count()\n",
    "print('There are '+str(total_events)+' events')"
   ]
  },
  {
   "cell_type": "code",
   "execution_count": 4,
   "metadata": {
    "execution": {
     "iopub.execute_input": "2022-03-17T14:44:29.545985Z",
     "iopub.status.busy": "2022-03-17T14:44:29.545385Z",
     "iopub.status.idle": "2022-03-17T14:45:19.771600Z",
     "shell.execute_reply": "2022-03-17T14:45:19.770845Z",
     "shell.execute_reply.started": "2022-03-17T14:44:29.545942Z"
    },
    "tags": []
   },
   "outputs": [
    {
     "name": "stdout",
     "output_type": "stream",
     "text": [
      "Events for training 783773\n",
      "Events for validation 195746\n"
     ]
    }
   ],
   "source": [
    "#df.show()\n",
    "X, y, X_test, y_test = prepareData(df, 0.2)\n",
    "\n",
    "print('Events for training '+str(len(y)))\n",
    "print('Events for validation '+str(len(y_test)))"
   ]
  },
  {
   "cell_type": "code",
   "execution_count": 5,
   "metadata": {
    "execution": {
     "iopub.execute_input": "2022-03-17T14:45:19.773211Z",
     "iopub.status.busy": "2022-03-17T14:45:19.772870Z",
     "iopub.status.idle": "2022-03-17T14:45:20.272320Z",
     "shell.execute_reply": "2022-03-17T14:45:20.270527Z",
     "shell.execute_reply.started": "2022-03-17T14:45:19.773181Z"
    },
    "tags": []
   },
   "outputs": [],
   "source": [
    "# When you're done, stop spark\n",
    "spark.stop()"
   ]
  },
  {
   "cell_type": "markdown",
   "metadata": {},
   "source": [
    "# Exercise 1\n",
    "\n",
    "- documentation: https://keras.io/getting-started/sequential-model-guide/\n",
    "- Build (compile) a Keras Sequential model (call it *model*)\n",
    "  - 1 hidden layer  with 100 neurons, activation ReLU (put in the correct input_shape!)\n",
    "  - 1 ouput layer with activation sigmoid\n",
    "  - use Adam optimiser\n",
    "  - use binary_crossentropy loss\n",
    "  - use accuracy metrics "
   ]
  },
  {
   "cell_type": "code",
   "execution_count": 6,
   "metadata": {
    "execution": {
     "iopub.execute_input": "2022-03-17T14:45:20.275746Z",
     "iopub.status.busy": "2022-03-17T14:45:20.274963Z",
     "iopub.status.idle": "2022-03-17T14:45:20.349443Z",
     "shell.execute_reply": "2022-03-17T14:45:20.348744Z",
     "shell.execute_reply.started": "2022-03-17T14:45:20.275642Z"
    }
   },
   "outputs": [],
   "source": [
    "# now let's first look at NN in keras\n",
    "\n",
    "# create the model\n",
    "model = Sequential()\n",
    "\n",
    "#baseline, 13m with 1M events, acc 74%, AUC 81\n",
    "model.add(Dense(100, activation='relu', input_shape=(28,)))\n",
    "model.add(Dense(1, activation='sigmoid'))\n",
    "opt = Adam()\n",
    "\n",
    "# Compile model\n",
    "model.compile(loss='binary_crossentropy', optimizer=opt, metrics=['accuracy'])"
   ]
  },
  {
   "cell_type": "code",
   "execution_count": 7,
   "metadata": {
    "execution": {
     "iopub.execute_input": "2022-03-17T14:45:20.350701Z",
     "iopub.status.busy": "2022-03-17T14:45:20.350509Z",
     "iopub.status.idle": "2022-03-17T14:45:20.356246Z",
     "shell.execute_reply": "2022-03-17T14:45:20.355106Z",
     "shell.execute_reply.started": "2022-03-17T14:45:20.350664Z"
    }
   },
   "outputs": [],
   "source": [
    "# simple early stopping\n",
    "es = EarlyStopping(monitor='val_loss', mode='min', verbose=1, patience=10)"
   ]
  },
  {
   "cell_type": "code",
   "execution_count": 8,
   "metadata": {
    "execution": {
     "iopub.execute_input": "2022-03-17T14:45:20.357900Z",
     "iopub.status.busy": "2022-03-17T14:45:20.357523Z",
     "iopub.status.idle": "2022-03-17T14:48:44.273591Z",
     "shell.execute_reply": "2022-03-17T14:48:44.271976Z",
     "shell.execute_reply.started": "2022-03-17T14:45:20.357858Z"
    }
   },
   "outputs": [
    {
     "name": "stdout",
     "output_type": "stream",
     "text": [
      "Epoch 1/10\n",
      "6124/6124 [==============================] - 21s 3ms/step - loss: 0.6205 - accuracy: 0.6533 - val_loss: 0.6025 - val_accuracy: 0.6700\n",
      "Epoch 2/10\n",
      "6124/6124 [==============================] - 22s 4ms/step - loss: 0.5898 - accuracy: 0.6862 - val_loss: 0.5832 - val_accuracy: 0.6932\n",
      "Epoch 3/10\n",
      "6124/6124 [==============================] - 19s 3ms/step - loss: 0.5781 - accuracy: 0.6960 - val_loss: 0.5733 - val_accuracy: 0.7032\n",
      "Epoch 4/10\n",
      "6124/6124 [==============================] - 24s 4ms/step - loss: 0.5698 - accuracy: 0.7030 - val_loss: 0.5666 - val_accuracy: 0.7051\n",
      "Epoch 5/10\n",
      "6124/6124 [==============================] - 25s 4ms/step - loss: 0.5634 - accuracy: 0.7077 - val_loss: 0.5598 - val_accuracy: 0.7122\n",
      "Epoch 6/10\n",
      "6124/6124 [==============================] - 21s 3ms/step - loss: 0.5581 - accuracy: 0.7127 - val_loss: 0.5616 - val_accuracy: 0.7115\n",
      "Epoch 7/10\n",
      "6124/6124 [==============================] - 18s 3ms/step - loss: 0.5538 - accuracy: 0.7158 - val_loss: 0.5561 - val_accuracy: 0.7111\n",
      "Epoch 8/10\n",
      "6124/6124 [==============================] - 18s 3ms/step - loss: 0.5507 - accuracy: 0.7181 - val_loss: 0.5479 - val_accuracy: 0.7210\n",
      "Epoch 9/10\n",
      "6124/6124 [==============================] - 18s 3ms/step - loss: 0.5480 - accuracy: 0.7199 - val_loss: 0.5459 - val_accuracy: 0.7227\n",
      "Epoch 10/10\n",
      "6124/6124 [==============================] - 17s 3ms/step - loss: 0.5458 - accuracy: 0.7215 - val_loss: 0.5434 - val_accuracy: 0.7239\n",
      "CPU times: user 5min 42s, sys: 1min 52s, total: 7min 34s\n",
      "Wall time: 3min 23s\n"
     ]
    }
   ],
   "source": [
    "%%time\n",
    "history = model.fit(X, y, batch_size=128, epochs=10, validation_data=(X_test, y_test), callbacks=[es]) #, verbose=0)"
   ]
  },
  {
   "cell_type": "code",
   "execution_count": 9,
   "metadata": {
    "execution": {
     "iopub.execute_input": "2022-03-17T14:48:44.277167Z",
     "iopub.status.busy": "2022-03-17T14:48:44.276685Z",
     "iopub.status.idle": "2022-03-17T14:48:44.543112Z",
     "shell.execute_reply": "2022-03-17T14:48:44.542396Z",
     "shell.execute_reply.started": "2022-03-17T14:48:44.277120Z"
    },
    "tags": []
   },
   "outputs": [
    {
     "data": {
      "image/png": "[encoded data removed]",
      "text/plain": [
       "<Figure size 432x288 with 1 Axes>"
      ]
     },
     "metadata": {
      "needs_background": "light"
     },
     "output_type": "display_data"
    }
   ],
   "source": [
    "plotVsEpoch(history, 'loss')"
   ]
  },
  {
   "cell_type": "code",
   "execution_count": 10,
   "metadata": {
    "execution": {
     "iopub.execute_input": "2022-03-17T14:48:44.545533Z",
     "iopub.status.busy": "2022-03-17T14:48:44.545209Z",
     "iopub.status.idle": "2022-03-17T14:48:44.694442Z",
     "shell.execute_reply": "2022-03-17T14:48:44.693071Z",
     "shell.execute_reply.started": "2022-03-17T14:48:44.545508Z"
    },
    "tags": []
   },
   "outputs": [
    {
     "data": {
      "image/png": "[encoded data removed]",
      "text/plain": [
       "<Figure size 432x288 with 1 Axes>"
      ]
     },
     "metadata": {
      "needs_background": "light"
     },
     "output_type": "display_data"
    }
   ],
   "source": [
    "plotVsEpoch(history, 'accuracy')"
   ]
  },
  {
   "cell_type": "code",
   "execution_count": 11,
   "metadata": {
    "execution": {
     "iopub.execute_input": "2022-03-17T14:48:44.695897Z",
     "iopub.status.busy": "2022-03-17T14:48:44.695704Z",
     "iopub.status.idle": "2022-03-17T14:48:44.703011Z",
     "shell.execute_reply": "2022-03-17T14:48:44.702007Z",
     "shell.execute_reply.started": "2022-03-17T14:48:44.695872Z"
    },
    "tags": []
   },
   "outputs": [
    {
     "name": "stdout",
     "output_type": "stream",
     "text": [
      "{'verbose': 1, 'epochs': 10, 'steps': 6124}\n",
      "dict_keys(['loss', 'accuracy', 'val_loss', 'val_accuracy'])\n"
     ]
    }
   ],
   "source": [
    "print(history.params)\n",
    "print(history.history.keys())\n"
   ]
  },
  {
   "cell_type": "code",
   "execution_count": 12,
   "metadata": {
    "execution": {
     "iopub.execute_input": "2022-03-17T14:48:44.705019Z",
     "iopub.status.busy": "2022-03-17T14:48:44.704575Z",
     "iopub.status.idle": "2022-03-17T14:48:44.723047Z",
     "shell.execute_reply": "2022-03-17T14:48:44.720966Z",
     "shell.execute_reply.started": "2022-03-17T14:48:44.704972Z"
    },
    "tags": []
   },
   "outputs": [
    {
     "name": "stdout",
     "output_type": "stream",
     "text": [
      "Model: \"sequential\"\n",
      "_________________________________________________________________\n",
      " Layer (type)                Output Shape              Param #   \n",
      "=================================================================\n",
      " dense (Dense)               (None, 100)               2900      \n",
      "                                                                 \n",
      " dense_1 (Dense)             (None, 1)                 101       \n",
      "                                                                 \n",
      "=================================================================\n",
      "Total params: 3,001\n",
      "Trainable params: 3,001\n",
      "Non-trainable params: 0\n",
      "_________________________________________________________________\n"
     ]
    }
   ],
   "source": [
    "model.summary()"
   ]
  },
  {
   "cell_type": "code",
   "execution_count": 13,
   "metadata": {
    "execution": {
     "iopub.execute_input": "2022-03-17T14:48:44.724494Z",
     "iopub.status.busy": "2022-03-17T14:48:44.724243Z",
     "iopub.status.idle": "2022-03-17T14:48:52.860845Z",
     "shell.execute_reply": "2022-03-17T14:48:52.859252Z",
     "shell.execute_reply.started": "2022-03-17T14:48:44.724462Z"
    },
    "tags": []
   },
   "outputs": [
    {
     "data": {
      "image/png": "[encoded data removed]",
      "text/plain": [
       "<Figure size 432x288 with 1 Axes>"
      ]
     },
     "metadata": {
      "needs_background": "light"
     },
     "output_type": "display_data"
    }
   ],
   "source": [
    "# apply model to get predictions on test set\n",
    "y_pred = model.predict(X_test)\n",
    "\n",
    "#draw ROC\n",
    "drawROC2(y_test, y_pred)"
   ]
  },
  {
   "cell_type": "code",
   "execution_count": 14,
   "metadata": {
    "execution": {
     "iopub.execute_input": "2022-03-17T14:48:52.864068Z",
     "iopub.status.busy": "2022-03-17T14:48:52.863184Z",
     "iopub.status.idle": "2022-03-17T14:48:54.715898Z",
     "shell.execute_reply": "2022-03-17T14:48:54.714174Z",
     "shell.execute_reply.started": "2022-03-17T14:48:52.864008Z"
    },
    "tags": []
   },
   "outputs": [
    {
     "data": {
      "image/png": "[encoded data removed]",
      "text/plain": [
       "<Figure size 432x288 with 1 Axes>"
      ]
     },
     "metadata": {
      "needs_background": "light"
     },
     "output_type": "display_data"
    }
   ],
   "source": [
    "#do signal vs background plot\n",
    "x_test = X_test[:,25]\n",
    "variable = 'm_bb'\n",
    "\n",
    "plotSignalvsBgWithPrediction2(x_test, y_test, y_pred, variable)"
   ]
  },
  {
   "cell_type": "markdown",
   "metadata": {},
   "source": [
    "# Exercise 2\n",
    "\n",
    "- play with the model parameters and see if you can improve the performances (try to add hidden layers)\n",
    "- try to increase the number of epochs for training, is the model improving?\n",
    "- how is training time affected by the number of parameters?\n",
    "- how is signal versus background separation affected (check different variables)"
   ]
  }
 ],
 "metadata": {
  "kernelspec": {
   "display_name": "Python 3 (ipykernel)",
   "language": "python",
   "name": "python3"
  },
  "language_info": {
   "codemirror_mode": {
    "name": "ipython",
    "version": 3
   },
   "file_extension": ".py",
   "mimetype": "text/x-python",
   "name": "python",
   "nbconvert_exporter": "python",
   "pygments_lexer": "ipython3",
   "version": "3.9.7"
  },
  "sparkconnect": {
   "bundled_options": [],
   "list_of_options": [
    {
     "name": "spark.driver.maxResultSize",
     "value": "0"
    }
   ]
  }
 },
 "nbformat": 4,
 "nbformat_minor": 4
}
