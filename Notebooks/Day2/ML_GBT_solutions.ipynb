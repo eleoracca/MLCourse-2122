{
 "cells": [
  {
   "cell_type": "markdown",
   "metadata": {},
   "source": [
    "# Hands-on Day 2\n",
    "\n",
    "- course [slides](https://github.com/leggerf/MLCourse-2122/blob/master/Slides/Day2/Big%20data%20science%20-%20Day%202%20-%202122.pdf)\n",
    "\n",
    "\n",
    "# You'll learn\n",
    "\n",
    "## ML methods\n",
    "- Gradient Boosting Trees with pyspark.ml\n",
    "\n",
    "## ML techniques\n",
    "- hyperparameter optimisation\n",
    "- ROC curves"
   ]
  },
  {
   "cell_type": "code",
   "execution_count": 1,
   "metadata": {
    "execution": {
     "iopub.execute_input": "2022-03-17T14:44:11.756958Z",
     "iopub.status.busy": "2022-03-17T14:44:11.756075Z",
     "iopub.status.idle": "2022-03-17T14:44:12.758505Z",
     "shell.execute_reply": "2022-03-17T14:44:12.757513Z",
     "shell.execute_reply.started": "2022-03-17T14:44:11.756763Z"
    },
    "tags": []
   },
   "outputs": [],
   "source": [
    "#initial imports\n",
    "%reload_ext custom_magics\n",
    "%load_ext autoreload\n",
    "%autoreload 2\n",
    "\n",
    "# initial setup\n",
    "import pandas as pd\n",
    "import numpy as np\n",
    "import matplotlib.pyplot as plt\n",
    "\n",
    "%matplotlib inline\n",
    "\n",
    "# Check out these custom functions\n",
    "from custom_functions import *"
   ]
  },
  {
   "cell_type": "code",
   "execution_count": 2,
   "metadata": {
    "execution": {
     "iopub.execute_input": "2022-03-17T14:44:12.760720Z",
     "iopub.status.busy": "2022-03-17T14:44:12.760349Z",
     "iopub.status.idle": "2022-03-17T14:44:22.093077Z",
     "shell.execute_reply": "2022-03-17T14:44:22.092399Z",
     "shell.execute_reply.started": "2022-03-17T14:44:12.760694Z"
    },
    "tags": []
   },
   "outputs": [
    {
     "data": {
      "text/html": [
       "\n",
       "        <div>\n",
       "            <p><b>SparkContext</b></p>\n",
       "\n",
       "            <p><a href=\"http://jupyter-leggerf.jhub.svc.cluster.local:4041\">Spark UI</a></p>\n",
       "\n",
       "            <dl>\n",
       "              <dt>Version</dt>\n",
       "                <dd><code>v3.2.1</code></dd>\n",
       "              <dt>Master</dt>\n",
       "                <dd><code>k8s://https://192.168.2.39:6443</code></dd>\n",
       "              <dt>AppName</dt>\n",
       "                <dd><code>jupyter-leggerf</code></dd>\n",
       "            </dl>\n",
       "        </div>\n",
       "        "
      ],
      "text/plain": [
       "<SparkContext master=k8s://https://192.168.2.39:6443 appName=jupyter-leggerf>"
      ]
     },
     "execution_count": 2,
     "metadata": {},
     "output_type": "execute_result"
    }
   ],
   "source": [
    "num_workers=5\n",
    "spark=%sc $num_workers\n",
    "\n",
    "from pyspark.sql import SparkSession\n",
    "spark_session = SparkSession(spark)\n",
    "\n",
    "#check if spark is there\n",
    "spark"
   ]
  },
  {
   "cell_type": "markdown",
   "metadata": {},
   "source": [
    "# Data preprocessing"
   ]
  },
  {
   "cell_type": "code",
   "execution_count": 3,
   "metadata": {
    "execution": {
     "iopub.execute_input": "2022-03-17T14:44:22.094502Z",
     "iopub.status.busy": "2022-03-17T14:44:22.094158Z",
     "iopub.status.idle": "2022-03-17T14:44:34.781580Z",
     "shell.execute_reply": "2022-03-17T14:44:34.780819Z",
     "shell.execute_reply.started": "2022-03-17T14:44:22.094478Z"
    },
    "tags": []
   },
   "outputs": [
    {
     "name": "stdout",
     "output_type": "stream",
     "text": [
      "There are 9560096 events\n"
     ]
    }
   ],
   "source": [
    "# read in input data\n",
    "\n",
    "#inputFile = 'hdfs://192.168.2.39/data/Higgs100k.parquet'\n",
    "#inputFile = 'hdfs://192.168.2.39/data/Higgs1M.parquet'\n",
    "inputFile = 'hdfs://192.168.2.39/data/Higgs10M.parquet'\n",
    "\n",
    "df = spark_session.read.format('parquet').option('header', 'true').option('inferschema', 'true').load(inputFile)\n",
    "\n",
    "total_events = df.count()\n",
    "print('There are '+str(total_events)+' events')"
   ]
  },
  {
   "cell_type": "markdown",
   "metadata": {},
   "source": [
    "#  Exercise 1\n",
    "\n",
    "- split the dataframe *df* into two dataframes, called *train* and *test* containing respectively 80% and 20% of the events (randomly distributed between the two samples) "
   ]
  },
  {
   "cell_type": "code",
   "execution_count": 4,
   "metadata": {
    "execution": {
     "iopub.execute_input": "2022-03-17T14:44:34.784211Z",
     "iopub.status.busy": "2022-03-17T14:44:34.783984Z",
     "iopub.status.idle": "2022-03-17T14:44:53.853713Z",
     "shell.execute_reply": "2022-03-17T14:44:53.852006Z",
     "shell.execute_reply.started": "2022-03-17T14:44:34.784185Z"
    },
    "tags": []
   },
   "outputs": [
    {
     "name": "stdout",
     "output_type": "stream",
     "text": [
      "Events for training 7648459\n",
      "Events for validation 1911637\n"
     ]
    }
   ],
   "source": [
    "#split the dataset for training and test\n",
    "train, test = df.randomSplit([0.8,0.2])\n",
    "\n",
    "print('Events for training {}'.format(train.count()))\n",
    "print('Events for validation {}'.format(test.count()))"
   ]
  },
  {
   "cell_type": "markdown",
   "metadata": {},
   "source": [
    "#### Create the input feature vector - remember, this was part of yesterday hands-on (bonus)\n",
    "\n",
    "- Libraries for ML tipically take as inputs data in a very specific format. Documentation on how to do data preprocessing in Spark: https://spark.apache.org/docs/latest/ml-features.html\n",
    "- Try to add to the dataframe *train* a new column, called 'features' which is a vector column with all the variables above except for 'label'\n",
    "   - features = [lepton_pT, lepton_eta, lepton_phi, ...]\n",
    "   - Hint: look at the VectorAssembler transformer\n",
    "- do the same for dataframe *test*"
   ]
  },
  {
   "cell_type": "code",
   "execution_count": 5,
   "metadata": {
    "execution": {
     "iopub.execute_input": "2022-03-17T14:44:53.858108Z",
     "iopub.status.busy": "2022-03-17T14:44:53.857067Z",
     "iopub.status.idle": "2022-03-17T14:44:54.223925Z",
     "shell.execute_reply": "2022-03-17T14:44:54.222475Z",
     "shell.execute_reply.started": "2022-03-17T14:44:53.857999Z"
    },
    "tags": []
   },
   "outputs": [],
   "source": [
    "# create the input feature vector \n",
    "feature = train.columns\n",
    "feature.remove('label')\n",
    "\n",
    "from pyspark.ml.feature import VectorAssembler\n",
    "\n",
    "#VectorAssembler is a transformer that combines a given list of columns into a single vector column\n",
    "assembler = VectorAssembler(inputCols=feature, outputCol='features')\n",
    "train = assembler.transform(train)\n",
    "test = assembler.transform(test)"
   ]
  },
  {
   "cell_type": "markdown",
   "metadata": {},
   "source": [
    "# ML models: GBT"
   ]
  },
  {
   "cell_type": "code",
   "execution_count": 6,
   "metadata": {
    "execution": {
     "iopub.execute_input": "2022-03-17T14:44:54.226967Z",
     "iopub.status.busy": "2022-03-17T14:44:54.226203Z",
     "iopub.status.idle": "2022-03-17T14:44:54.298767Z",
     "shell.execute_reply": "2022-03-17T14:44:54.296983Z",
     "shell.execute_reply.started": "2022-03-17T14:44:54.226903Z"
    },
    "tags": []
   },
   "outputs": [],
   "source": [
    "# ML model: GBT (Gradient Boosting Trees)\n",
    "# Documentation at https://spark.apache.org/docs/2.2.0/ml-classification-regression.html\n",
    "from pyspark.ml.classification import GBTClassifier\n",
    "\n",
    "# slow, 10-20 minutes training time \n",
    "#gbt = GBTClassifier(labelCol='label', featuresCol='features', maxIter=50, maxDepth=10) #slow\n",
    "\n",
    "# fast, about 1m to train\n",
    "gbt = GBTClassifier(labelCol='label', featuresCol='features', maxIter=10, maxDepth=3) "
   ]
  },
  {
   "cell_type": "code",
   "execution_count": 7,
   "metadata": {
    "execution": {
     "iopub.execute_input": "2022-03-17T14:44:54.301523Z",
     "iopub.status.busy": "2022-03-17T14:44:54.301007Z",
     "iopub.status.idle": "2022-03-17T14:46:09.227538Z",
     "shell.execute_reply": "2022-03-17T14:46:09.226555Z",
     "shell.execute_reply.started": "2022-03-17T14:44:54.301460Z"
    },
    "tags": []
   },
   "outputs": [
    {
     "name": "stdout",
     "output_type": "stream",
     "text": [
      "CPU times: user 1.18 s, sys: 232 ms, total: 1.41 s\n",
      "Wall time: 1min 14s\n"
     ]
    }
   ],
   "source": [
    "%%time\n",
    "gbt_model = gbt.fit(train)"
   ]
  },
  {
   "cell_type": "code",
   "execution_count": 8,
   "metadata": {
    "execution": {
     "iopub.execute_input": "2022-03-17T14:46:09.229934Z",
     "iopub.status.busy": "2022-03-17T14:46:09.229145Z",
     "iopub.status.idle": "2022-03-17T14:46:24.089095Z",
     "shell.execute_reply": "2022-03-17T14:46:24.088305Z",
     "shell.execute_reply.started": "2022-03-17T14:46:09.229871Z"
    },
    "tags": []
   },
   "outputs": [
    {
     "name": "stdout",
     "output_type": "stream",
     "text": [
      "Test set AUC = 0.7436047111513558\n"
     ]
    }
   ],
   "source": [
    "# compute AUC on the test set\n",
    "result = gbt_model.transform(test)\n",
    "\n",
    "from pyspark.ml.evaluation import BinaryClassificationEvaluator\n",
    "evaluator = BinaryClassificationEvaluator(labelCol='label', metricName=\"areaUnderROC\")\n",
    "print(\"Test set AUC = \" + str(evaluator.evaluate(result)))"
   ]
  },
  {
   "cell_type": "code",
   "execution_count": 9,
   "metadata": {
    "execution": {
     "iopub.execute_input": "2022-03-17T14:46:24.091125Z",
     "iopub.status.busy": "2022-03-17T14:46:24.090484Z",
     "iopub.status.idle": "2022-03-17T14:47:28.450266Z",
     "shell.execute_reply": "2022-03-17T14:47:28.448845Z",
     "shell.execute_reply.started": "2022-03-17T14:46:24.091094Z"
    },
    "tags": []
   },
   "outputs": [
    {
     "name": "stdout",
     "output_type": "stream",
     "text": [
      "AUC: 0.744\n",
      "+-----+----------+------+\n",
      "|label|prediction| count|\n",
      "+-----+----------+------+\n",
      "|  1.0|       1.0|719536|\n",
      "|  0.0|       1.0|323106|\n",
      "|  1.0|       0.0|293533|\n",
      "|  0.0|       0.0|576097|\n",
      "+-----+----------+------+\n",
      "\n",
      "n precision: 0.690\n",
      "n recall: 0.710\n",
      "n accuracy: 0.678\n",
      "n F1 score: 0.700\n"
     ]
    }
   ],
   "source": [
    "#print metrics\n",
    "printMetrics(evaluator, result)"
   ]
  },
  {
   "cell_type": "code",
   "execution_count": 10,
   "metadata": {
    "execution": {
     "iopub.execute_input": "2022-03-17T14:47:28.457389Z",
     "iopub.status.busy": "2022-03-17T14:47:28.456845Z",
     "iopub.status.idle": "2022-03-17T14:47:28.492470Z",
     "shell.execute_reply": "2022-03-17T14:47:28.490802Z",
     "shell.execute_reply.started": "2022-03-17T14:47:28.457338Z"
    },
    "tags": []
   },
   "outputs": [
    {
     "data": {
      "text/plain": [
       "{Param(parent='GBTClassifier_4bcfb2d2c9e3', name='cacheNodeIds', doc='If false, the algorithm will pass trees to executors to match instances with nodes. If true, the algorithm will cache node IDs for each instance. Caching can speed up training of deeper trees. Users can set how often should the cache be checkpointed or disable it by setting checkpointInterval.'): False,\n",
       " Param(parent='GBTClassifier_4bcfb2d2c9e3', name='checkpointInterval', doc='set checkpoint interval (>= 1) or disable checkpoint (-1). E.g. 10 means that the cache will get checkpointed every 10 iterations. Note: this setting will be ignored if the checkpoint directory is not set in the SparkContext.'): 10,\n",
       " Param(parent='GBTClassifier_4bcfb2d2c9e3', name='featureSubsetStrategy', doc=\"The number of features to consider for splits at each tree node. Supported options: 'auto' (choose automatically for task: If numTrees == 1, set to 'all'. If numTrees > 1 (forest), set to 'sqrt' for classification and to 'onethird' for regression), 'all' (use all features), 'onethird' (use 1/3 of the features), 'sqrt' (use sqrt(number of features)), 'log2' (use log2(number of features)), 'n' (when n is in the range (0, 1.0], use n * number of features. When n is in the range (1, number of features), use n features). default = 'auto'\"): 'all',\n",
       " Param(parent='GBTClassifier_4bcfb2d2c9e3', name='featuresCol', doc='features column name.'): 'features',\n",
       " Param(parent='GBTClassifier_4bcfb2d2c9e3', name='impurity', doc='Criterion used for information gain calculation (case-insensitive). Supported options: variance'): 'variance',\n",
       " Param(parent='GBTClassifier_4bcfb2d2c9e3', name='labelCol', doc='label column name.'): 'label',\n",
       " Param(parent='GBTClassifier_4bcfb2d2c9e3', name='leafCol', doc='Leaf indices column name. Predicted leaf index of each instance in each tree by preorder.'): '',\n",
       " Param(parent='GBTClassifier_4bcfb2d2c9e3', name='lossType', doc='Loss function which GBT tries to minimize (case-insensitive). Supported options: logistic'): 'logistic',\n",
       " Param(parent='GBTClassifier_4bcfb2d2c9e3', name='maxBins', doc='Max number of bins for discretizing continuous features.  Must be >=2 and >= number of categories for any categorical feature.'): 32,\n",
       " Param(parent='GBTClassifier_4bcfb2d2c9e3', name='maxDepth', doc='Maximum depth of the tree. (>= 0) E.g., depth 0 means 1 leaf node; depth 1 means 1 internal node + 2 leaf nodes. Must be in range [0, 30].'): 3,\n",
       " Param(parent='GBTClassifier_4bcfb2d2c9e3', name='maxIter', doc='max number of iterations (>= 0).'): 10,\n",
       " Param(parent='GBTClassifier_4bcfb2d2c9e3', name='maxMemoryInMB', doc='Maximum memory in MB allocated to histogram aggregation. If too small, then 1 node will be split per iteration, and its aggregates may exceed this size.'): 256,\n",
       " Param(parent='GBTClassifier_4bcfb2d2c9e3', name='minInfoGain', doc='Minimum information gain for a split to be considered at a tree node.'): 0.0,\n",
       " Param(parent='GBTClassifier_4bcfb2d2c9e3', name='minInstancesPerNode', doc='Minimum number of instances each child must have after split. If a split causes the left or right child to have fewer than minInstancesPerNode, the split will be discarded as invalid. Should be >= 1.'): 1,\n",
       " Param(parent='GBTClassifier_4bcfb2d2c9e3', name='minWeightFractionPerNode', doc='Minimum fraction of the weighted sample count that each child must have after split. If a split causes the fraction of the total weight in the left or right child to be less than minWeightFractionPerNode, the split will be discarded as invalid. Should be in interval [0.0, 0.5).'): 0.0,\n",
       " Param(parent='GBTClassifier_4bcfb2d2c9e3', name='predictionCol', doc='prediction column name.'): 'prediction',\n",
       " Param(parent='GBTClassifier_4bcfb2d2c9e3', name='probabilityCol', doc='Column name for predicted class conditional probabilities. Note: Not all models output well-calibrated probability estimates! These probabilities should be treated as confidences, not precise probabilities.'): 'probability',\n",
       " Param(parent='GBTClassifier_4bcfb2d2c9e3', name='rawPredictionCol', doc='raw prediction (a.k.a. confidence) column name.'): 'rawPrediction',\n",
       " Param(parent='GBTClassifier_4bcfb2d2c9e3', name='seed', doc='random seed.'): 8741616366188684264,\n",
       " Param(parent='GBTClassifier_4bcfb2d2c9e3', name='stepSize', doc='Step size (a.k.a. learning rate) in interval (0, 1] for shrinking the contribution of each estimator.'): 0.1,\n",
       " Param(parent='GBTClassifier_4bcfb2d2c9e3', name='subsamplingRate', doc='Fraction of the training data used for learning each decision tree, in range (0, 1].'): 1.0,\n",
       " Param(parent='GBTClassifier_4bcfb2d2c9e3', name='validationTol', doc='Threshold for stopping early when fit with validation is used. If the error rate on the validation input changes by less than the validationTol, then learning will stop early (before `maxIter`). This parameter is ignored when fit without validation is used.'): 0.01}"
      ]
     },
     "execution_count": 10,
     "metadata": {},
     "output_type": "execute_result"
    }
   ],
   "source": [
    "gbt_model.extractParamMap()"
   ]
  },
  {
   "cell_type": "code",
   "execution_count": 11,
   "metadata": {
    "execution": {
     "iopub.execute_input": "2022-03-17T14:47:28.496364Z",
     "iopub.status.busy": "2022-03-17T14:47:28.495259Z",
     "iopub.status.idle": "2022-03-17T14:48:38.020422Z",
     "shell.execute_reply": "2022-03-17T14:48:38.019422Z",
     "shell.execute_reply.started": "2022-03-17T14:47:28.496317Z"
    },
    "tags": []
   },
   "outputs": [
    {
     "data": {
      "image/png": "[encoded data removed]",
      "text/plain": [
       "<Figure size 432x288 with 1 Axes>"
      ]
     },
     "metadata": {
      "needs_background": "light"
     },
     "output_type": "display_data"
    }
   ],
   "source": [
    "#make ROC curve\n",
    "drawROC(result)"
   ]
  },
  {
   "cell_type": "code",
   "execution_count": 12,
   "metadata": {
    "execution": {
     "iopub.execute_input": "2022-03-17T14:48:38.022831Z",
     "iopub.status.busy": "2022-03-17T14:48:38.022464Z",
     "iopub.status.idle": "2022-03-17T14:48:38.443634Z",
     "shell.execute_reply": "2022-03-17T14:48:38.442795Z",
     "shell.execute_reply.started": "2022-03-17T14:48:38.022798Z"
    }
   },
   "outputs": [
    {
     "data": {
      "image/png": "[encoded data removed]",
      "text/plain": [
       "<Figure size 576x720 with 1 Axes>"
      ]
     },
     "metadata": {
      "needs_background": "light"
     },
     "output_type": "display_data"
    }
   ],
   "source": [
    "#plot features vs importance\n",
    "drawFeatures(feature, gbt_model)"
   ]
  },
  {
   "cell_type": "code",
   "execution_count": 13,
   "metadata": {
    "execution": {
     "iopub.execute_input": "2022-03-17T14:48:38.445642Z",
     "iopub.status.busy": "2022-03-17T14:48:38.445274Z",
     "iopub.status.idle": "2022-03-17T14:50:23.091398Z",
     "shell.execute_reply": "2022-03-17T14:50:23.090712Z",
     "shell.execute_reply.started": "2022-03-17T14:48:38.445603Z"
    }
   },
   "outputs": [
    {
     "data": {
      "image/png": "[encoded data removed]",
      "text/plain": [
       "<Figure size 432x288 with 1 Axes>"
      ]
     },
     "metadata": {
      "needs_background": "light"
     },
     "output_type": "display_data"
    }
   ],
   "source": [
    "#plot signal vs background with prediction\n",
    "plotSignalvsBgWithPrediction(test, result, 'm_bb')"
   ]
  },
  {
   "cell_type": "markdown",
   "metadata": {},
   "source": [
    "# Exercise 2\n",
    "\n",
    "- try to change the hyperparameters of the GBT model (maxIter=50, maxDepth=10), and check what changes in terms of performances, feature importance, signal versus background separation. Be careful of training time if you increase them too much!"
   ]
  },
  {
   "cell_type": "markdown",
   "metadata": {},
   "source": [
    "# Hyperparameter scan\n",
    "\n",
    "- documentation: https://spark.apache.org/docs/latest/ml-tuning.html"
   ]
  },
  {
   "cell_type": "code",
   "execution_count": 14,
   "metadata": {
    "execution": {
     "iopub.execute_input": "2022-03-17T14:50:23.092849Z",
     "iopub.status.busy": "2022-03-17T14:50:23.092641Z",
     "iopub.status.idle": "2022-03-17T14:50:34.607464Z",
     "shell.execute_reply": "2022-03-17T14:50:34.606444Z",
     "shell.execute_reply.started": "2022-03-17T14:50:23.092824Z"
    }
   },
   "outputs": [
    {
     "name": "stdout",
     "output_type": "stream",
     "text": [
      "We will use 765811 events for the grid search\n"
     ]
    }
   ],
   "source": [
    "#reduce number of events for training if needed\n",
    "subSample = train.sample(fraction=1.0/10, withReplacement=False).cache()\n",
    "print('We will use ' +str(subSample.count()) + ' events for the grid search')"
   ]
  },
  {
   "cell_type": "code",
   "execution_count": 15,
   "metadata": {
    "execution": {
     "iopub.execute_input": "2022-03-17T14:50:34.609468Z",
     "iopub.status.busy": "2022-03-17T14:50:34.609119Z",
     "iopub.status.idle": "2022-03-17T14:50:34.651868Z",
     "shell.execute_reply": "2022-03-17T14:50:34.651022Z",
     "shell.execute_reply.started": "2022-03-17T14:50:34.609437Z"
    }
   },
   "outputs": [],
   "source": [
    "#Do hyperparameter tuning \n",
    "from pyspark.ml.tuning import ParamGridBuilder, CrossValidator, TrainValidationSplit\n",
    "from pyspark.ml.evaluation import BinaryClassificationEvaluator\n",
    "\n",
    "gbt = GBTClassifier(labelCol='label', featuresCol='features', maxIter=10, maxDepth=3)\n",
    "\n",
    "evaluator=BinaryClassificationEvaluator(metricName='areaUnderROC')\n",
    "\n",
    "#choose hyperparameter space\n",
    "paramGrid = ParamGridBuilder()\\\n",
    "  .addGrid(gbt.maxDepth, [1,5])\\\n",
    "  .addGrid(gbt.maxIter, [10,20])\\\n",
    "  .build()"
   ]
  },
  {
   "cell_type": "markdown",
   "metadata": {},
   "source": [
    "# Exercise 3\n",
    "\n",
    "- try implementing the cross validation method, and describe what changes (results, training time, performances, ...): do you get the same hyper-parameters?"
   ]
  },
  {
   "cell_type": "code",
   "execution_count": 16,
   "metadata": {
    "execution": {
     "iopub.execute_input": "2022-03-17T14:50:34.653432Z",
     "iopub.status.busy": "2022-03-17T14:50:34.653103Z",
     "iopub.status.idle": "2022-03-17T14:50:34.679820Z",
     "shell.execute_reply": "2022-03-17T14:50:34.679110Z",
     "shell.execute_reply.started": "2022-03-17T14:50:34.653400Z"
    }
   },
   "outputs": [],
   "source": [
    "# n k cross validation (takes 6-8 minutes)\n",
    "cv = CrossValidator(estimator=gbt, \n",
    "                    evaluator=evaluator,\n",
    "                    estimatorParamMaps=paramGrid,\n",
    "                    numFolds=10, parallelism=num_workers)  #increase numFolds carefully, tipycally this would be 3 or 10"
   ]
  },
  {
   "cell_type": "code",
   "execution_count": 17,
   "metadata": {
    "execution": {
     "iopub.execute_input": "2022-03-17T14:50:34.681246Z",
     "iopub.status.busy": "2022-03-17T14:50:34.681047Z",
     "iopub.status.idle": "2022-03-17T14:50:34.706979Z",
     "shell.execute_reply": "2022-03-17T14:50:34.706002Z",
     "shell.execute_reply.started": "2022-03-17T14:50:34.681223Z"
    }
   },
   "outputs": [],
   "source": [
    "#or (takes 1-2 minutes)\n",
    "tvs = TrainValidationSplit(estimator=gbt,\n",
    "                           estimatorParamMaps=paramGrid,\n",
    "                           evaluator=evaluator,\n",
    "                           trainRatio=0.8)# 80% of the data will be used for training, 20% for validation"
   ]
  },
  {
   "cell_type": "markdown",
   "metadata": {},
   "source": [
    "**TIP:** after starting the following cell, close the Spark monitoring window or it will slow down your notebook display considerably."
   ]
  },
  {
   "cell_type": "code",
   "execution_count": 18,
   "metadata": {
    "execution": {
     "iopub.execute_input": "2022-03-17T14:50:34.708233Z",
     "iopub.status.busy": "2022-03-17T14:50:34.708029Z",
     "iopub.status.idle": "2022-03-17T14:52:11.683940Z",
     "shell.execute_reply": "2022-03-17T14:52:11.681919Z",
     "shell.execute_reply.started": "2022-03-17T14:50:34.708209Z"
    },
    "tags": []
   },
   "outputs": [
    {
     "name": "stdout",
     "output_type": "stream",
     "text": [
      "CPU times: user 7.55 s, sys: 1.6 s, total: 9.15 s\n",
      "Wall time: 1min 36s\n"
     ]
    }
   ],
   "source": [
    "#take care, might take long time, \n",
    "#%time bestModel = cv.fit(subSample)\n",
    "%time bestModel = tvs.fit(subSample)"
   ]
  },
  {
   "cell_type": "code",
   "execution_count": 19,
   "metadata": {
    "execution": {
     "iopub.execute_input": "2022-03-17T14:52:11.688193Z",
     "iopub.status.busy": "2022-03-17T14:52:11.687526Z",
     "iopub.status.idle": "2022-03-17T14:52:11.725957Z",
     "shell.execute_reply": "2022-03-17T14:52:11.725301Z",
     "shell.execute_reply.started": "2022-03-17T14:52:11.688129Z"
    }
   },
   "outputs": [
    {
     "name": "stdout",
     "output_type": "stream",
     "text": [
      "maxDepth = 5\n",
      "maxIter = 20\n"
     ]
    }
   ],
   "source": [
    "#It is possile to see the score obtained (in this case the AUC) for each set of parameters\n",
    "#zip(bestModel.avgMetrics, paramGrid)\n",
    "\n",
    "print('maxDepth = '+str(bestModel.bestModel._java_obj.getMaxDepth()))\n",
    "print('maxIter = '+str(bestModel.bestModel._java_obj.getMaxIter()))"
   ]
  },
  {
   "cell_type": "code",
   "execution_count": 20,
   "metadata": {
    "execution": {
     "iopub.execute_input": "2022-03-17T14:52:11.727107Z",
     "iopub.status.busy": "2022-03-17T14:52:11.726932Z",
     "iopub.status.idle": "2022-03-17T14:52:27.297407Z",
     "shell.execute_reply": "2022-03-17T14:52:27.296459Z",
     "shell.execute_reply.started": "2022-03-17T14:52:11.727086Z"
    }
   },
   "outputs": [
    {
     "name": "stdout",
     "output_type": "stream",
     "text": [
      "Test set AUC = 0.7821464280950171\n"
     ]
    }
   ],
   "source": [
    "# compute accuracy on the test set\n",
    "result = bestModel.transform(test)\n",
    "\n",
    "evaluator = BinaryClassificationEvaluator(labelCol='label', metricName=\"areaUnderROC\")\n",
    "print(\"Test set AUC = \" + str(evaluator.evaluate(result)))"
   ]
  },
  {
   "cell_type": "code",
   "execution_count": 21,
   "metadata": {
    "execution": {
     "iopub.execute_input": "2022-03-17T14:52:27.299396Z",
     "iopub.status.busy": "2022-03-17T14:52:27.298991Z",
     "iopub.status.idle": "2022-03-17T14:53:33.926368Z",
     "shell.execute_reply": "2022-03-17T14:53:33.925404Z",
     "shell.execute_reply.started": "2022-03-17T14:52:27.299359Z"
    },
    "tags": []
   },
   "outputs": [
    {
     "data": {
      "image/png": "[encoded data removed]",
      "text/plain": [
       "<Figure size 432x288 with 1 Axes>"
      ]
     },
     "metadata": {
      "needs_background": "light"
     },
     "output_type": "display_data"
    }
   ],
   "source": [
    "#make ROC curve with best model\n",
    "drawROC(result)"
   ]
  },
  {
   "cell_type": "code",
   "execution_count": 22,
   "metadata": {
    "execution": {
     "iopub.execute_input": "2022-03-17T14:53:33.927859Z",
     "iopub.status.busy": "2022-03-17T14:53:33.927523Z",
     "iopub.status.idle": "2022-03-17T14:55:18.689771Z",
     "shell.execute_reply": "2022-03-17T14:55:18.688193Z",
     "shell.execute_reply.started": "2022-03-17T14:53:33.927830Z"
    },
    "tags": []
   },
   "outputs": [
    {
     "data": {
      "image/png": "[encoded data removed]",
      "text/plain": [
       "<Figure size 432x288 with 1 Axes>"
      ]
     },
     "metadata": {
      "needs_background": "light"
     },
     "output_type": "display_data"
    }
   ],
   "source": [
    "#plot signal vs background with prediction\n",
    "plotSignalvsBgWithPrediction(test, result, 'm_bb')"
   ]
  },
  {
   "cell_type": "code",
   "execution_count": 23,
   "metadata": {
    "execution": {
     "iopub.execute_input": "2022-03-17T14:55:18.693810Z",
     "iopub.status.busy": "2022-03-17T14:55:18.693153Z",
     "iopub.status.idle": "2022-03-17T14:55:19.854762Z",
     "shell.execute_reply": "2022-03-17T14:55:19.853262Z",
     "shell.execute_reply.started": "2022-03-17T14:55:18.693725Z"
    },
    "tags": []
   },
   "outputs": [],
   "source": [
    "#when you're done, stop spark, this will release the resources you're using\n",
    "spark.stop()"
   ]
  }
 ],
 "metadata": {
  "kernelspec": {
   "display_name": "Python 3 (ipykernel)",
   "language": "python",
   "name": "python3"
  },
  "language_info": {
   "codemirror_mode": {
    "name": "ipython",
    "version": 3
   },
   "file_extension": ".py",
   "mimetype": "text/x-python",
   "name": "python",
   "nbconvert_exporter": "python",
   "pygments_lexer": "ipython3",
   "version": "3.9.7"
  },
  "sparkconnect": {
   "bundled_options": [],
   "list_of_options": []
  }
 },
 "nbformat": 4,
 "nbformat_minor": 4
}
